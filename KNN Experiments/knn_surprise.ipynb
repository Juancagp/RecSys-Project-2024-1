{
 "cells": [
  {
   "cell_type": "code",
   "execution_count": null,
   "metadata": {},
   "outputs": [],
   "source": [
    "import os\n",
    "import pandas as pd\n",
    "from surprise import KNNBasic\n",
    "from surprise.accuracy import rmse, mae\n",
    "from codecarbon import EmissionsTracker"
   ]
  },
  {
   "cell_type": "code",
   "execution_count": null,
   "metadata": {},
   "outputs": [],
   "source": [
    "dataset = \"coveo\"   # coveo, diginetica, rees46, retailrocket, yoochoose\n",
    "dataset_path = f\"../datasets/{dataset}\""
   ]
  },
  {
   "cell_type": "code",
   "execution_count": null,
   "metadata": {},
   "outputs": [],
   "source": [
    "train_path = os.path.join(dataset_path,f\"{dataset}_processed_view_train_full.tsv\")\n",
    "test_path = os.path.join(dataset_path,f\"{dataset}_processed_view_test.tsv\")"
   ]
  },
  {
   "cell_type": "code",
   "execution_count": null,
   "metadata": {},
   "outputs": [],
   "source": [
    "def load_data(train_path, test_path):\n",
    "    train_data = pd.read_csv(train_path, delimiter='\\t')\n",
    "    test_data = pd.read_csv(test_path, delimiter='\\t')\n",
    "    return train_data, test_data\n",
    "\n",
    "def train_evaluate_knn(trainset, testset):\n",
    "\n",
    "    sim_options = {\n",
    "        'name': 'manhattan',  # Usar similitud manhattan\n",
    "        'user_based': False  # Filtro basado en ítems\n",
    "    }\n",
    "    model = KNNBasic(sim_options=sim_options)\n",
    "\n",
    "    codecarbon_tracker = EmissionsTracker()\n",
    "    codecarbon_tracker.start()\n",
    "\n",
    "    model.fit(trainset)\n",
    "\n",
    "    emissions = codecarbon_tracker.stop()\n",
    "    print(f\"CO2 emissions: {emissions} kg\")\n",
    "    \n",
    "    predictions = model.test(testset)\n",
    "    rmse_score = rmse(predictions)\n",
    "    mae_score = mae(predictions)\n",
    "    \n",
    "    print(f\"RMSE: {rmse_score}\")\n",
    "    print(f\"MAE: {mae_score}\")\n",
    "    \n",
    "    return model"
   ]
  },
  {
   "cell_type": "code",
   "execution_count": null,
   "metadata": {},
   "outputs": [],
   "source": [
    "trainset, testset = load_data(train_path, test_path)\n",
    "trained_model = train_evaluate_knn(trainset, testset)"
   ]
  }
 ],
 "metadata": {
  "language_info": {
   "name": "python"
  }
 },
 "nbformat": 4,
 "nbformat_minor": 2
}

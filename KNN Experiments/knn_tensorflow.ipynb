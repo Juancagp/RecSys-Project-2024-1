{
 "cells": [
  {
   "cell_type": "code",
   "execution_count": null,
   "metadata": {},
   "outputs": [],
   "source": [
    "import numpy as np\n",
    "import tensorflow as tf"
   ]
  },
  {
   "cell_type": "code",
   "execution_count": null,
   "metadata": {},
   "outputs": [],
   "source": [
    "def predict(X_t, y_t, x_t, k_t):\n",
    "    neg_one = tf.constant(-1.0, dtype=tf.float64)\n",
    "    # we compute the L-1 distance\n",
    "    distances =  tf.reduce_sum(tf.abs(tf.subtract(X_t, x_t)), 1)\n",
    "    # to find the nearest points, we find the farthest points based on negative distances\n",
    "    # we need this trick because tensorflow has top_k api and no closest_k or reverse=True api\n",
    "    neg_distances = tf.multiply(distances, neg_one)\n",
    "    # get the indices\n",
    "    vals, indx = tf.nn.top_k(neg_distances, k_t)\n",
    "    # slice the labels of these points\n",
    "    y_s = tf.gather(y_t, indx)\n",
    "    return y_s"
   ]
  }
 ],
 "metadata": {
  "language_info": {
   "name": "python"
  }
 },
 "nbformat": 4,
 "nbformat_minor": 2
}

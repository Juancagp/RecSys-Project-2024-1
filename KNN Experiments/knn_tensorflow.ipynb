{
 "cells": [
  {
   "cell_type": "code",
   "execution_count": 1,
   "metadata": {},
   "outputs": [],
   "source": [
    "import os\n",
    "import tensorflow as tf\n",
    "import pandas as pd\n",
    "import numpy as np\n",
    "from sklearn.preprocessing import StandardScaler\n",
    "from sklearn.decomposition import PCA\n",
    "from codecarbon import EmissionsTracker\n",
    "from metrics import get_metrics"
   ]
  },
  {
   "cell_type": "code",
   "execution_count": 7,
   "metadata": {},
   "outputs": [],
   "source": [
    "dataset = \"coveo\"   # coveo, diginetica, rees46, retailrocket, yoochoose\n",
    "dataset_path = f\"../datasets/{dataset}\""
   ]
  },
  {
   "cell_type": "code",
   "execution_count": 8,
   "metadata": {},
   "outputs": [],
   "source": [
    "train_path = os.path.join(dataset_path,f\"{dataset}_processed_view_train_full.tsv\")\n",
    "test_path = os.path.join(dataset_path,f\"{dataset}_processed_view_test.tsv\")"
   ]
  },
  {
   "cell_type": "code",
   "execution_count": 4,
   "metadata": {},
   "outputs": [],
   "source": [
    "def load_and_process_data(path):\n",
    "    data = pd.read_csv(path, sep='\\t')\n",
    "\n",
    "    user_ids = data['SessionId'].astype('category').cat.codes.values\n",
    "    item_ids = data['ItemId'].astype('category').cat.codes.values\n",
    "    data['UserId'] = user_ids\n",
    "    data['ItemId'] = item_ids\n",
    "\n",
    "    return data, len(np.unique(user_ids)), len(np.unique(item_ids))\n",
    "\n",
    "\n",
    "def create_interaction_matrix(data, num_users, num_items):\n",
    "    interactions = np.zeros((num_users, num_items))\n",
    "    for row in data.itertuples():\n",
    "        interactions[row.UserId, row.ItemId] = 1\n",
    "    return interactions\n",
    "\n",
    "\n",
    "def knn_model(X_train, y_train, X_test, k=20):\n",
    "    train_data = tf.constant(X_train, dtype=tf.float32)\n",
    "    test_data = tf.constant(X_test, dtype=tf.float32)\n",
    "    train_labels = tf.constant(y_train, dtype=tf.int32)\n",
    "\n",
    "    distances = tf.norm(train_data[:, tf.newaxis] - test_data[tf.newaxis, :], axis=2)\n",
    "    _, indices = tf.nn.top_k(-distances, k=k)\n",
    "    nearest_labels = tf.gather(train_labels, indices)\n",
    "    predictions = tf.math.reduce_mode(nearest_labels, axis=1)\n",
    "    \n",
    "    return predictions.numpy()"
   ]
  },
  {
   "cell_type": "code",
   "execution_count": 5,
   "metadata": {},
   "outputs": [],
   "source": [
    "def process_data(train_path, test_path):\n",
    "    # Carga y procesa los datos de entrenamiento\n",
    "    train_data, num_users, num_items = load_and_process_data(train_path)\n",
    "\n",
    "    # Crea la matriz de interacciones para los datos de entrenamiento\n",
    "    X_train = create_interaction_matrix(train_data, num_users, num_items)\n",
    "    y_train = X_train.copy()  # Las etiquetas son las mismas interacciones\n",
    "\n",
    "    # Carga y procesa los datos de prueba\n",
    "    test_data, _, _ = load_and_process_data(test_path)\n",
    "\n",
    "    # Crea la matriz de interacciones para los datos de prueba\n",
    "    X_test = create_interaction_matrix(test_data, num_users, num_items)\n",
    "\n",
    "    # Normaliza los datos\n",
    "    scaler = StandardScaler()\n",
    "    X_train = scaler.fit_transform(X_train)\n",
    "    X_test = scaler.transform(X_test)\n",
    "\n",
    "    # Aplicar PCA en caso de ser necesario\n",
    "    # pca = PCA(n_components=100)\n",
    "    # X_train = pca.fit_transform(X_train)\n",
    "    # X_test = pca.transform(X_test)\n",
    "\n",
    "    return X_train, y_train, X_test, test_data"
   ]
  },
  {
   "cell_type": "code",
   "execution_count": 9,
   "metadata": {},
   "outputs": [
    {
     "ename": "MemoryError",
     "evalue": "Unable to allocate 13.4 GiB for an array with shape (165673, 10868) and data type float64",
     "output_type": "error",
     "traceback": [
      "\u001b[1;31m---------------------------------------------------------------------------\u001b[0m",
      "\u001b[1;31mMemoryError\u001b[0m                               Traceback (most recent call last)",
      "Cell \u001b[1;32mIn[9], line 1\u001b[0m\n\u001b[1;32m----> 1\u001b[0m X_train, y_train, X_test, test_data \u001b[38;5;241m=\u001b[39m \u001b[43mprocess_data\u001b[49m\u001b[43m(\u001b[49m\u001b[43mtrain_path\u001b[49m\u001b[43m,\u001b[49m\u001b[43m \u001b[49m\u001b[43mtest_path\u001b[49m\u001b[43m)\u001b[49m\n\u001b[0;32m      3\u001b[0m codecarbon_tracker \u001b[38;5;241m=\u001b[39m EmissionsTracker()\n\u001b[0;32m      4\u001b[0m codecarbon_tracker\u001b[38;5;241m.\u001b[39mstart()\n",
      "Cell \u001b[1;32mIn[5], line 6\u001b[0m, in \u001b[0;36mprocess_data\u001b[1;34m(train_path, test_path)\u001b[0m\n\u001b[0;32m      3\u001b[0m train_data, num_users, num_items \u001b[38;5;241m=\u001b[39m load_and_process_data(train_path)\n\u001b[0;32m      5\u001b[0m \u001b[38;5;66;03m# Crea la matriz de interacciones para los datos de entrenamiento\u001b[39;00m\n\u001b[1;32m----> 6\u001b[0m X_train \u001b[38;5;241m=\u001b[39m \u001b[43mcreate_interaction_matrix\u001b[49m\u001b[43m(\u001b[49m\u001b[43mtrain_data\u001b[49m\u001b[43m,\u001b[49m\u001b[43m \u001b[49m\u001b[43mnum_users\u001b[49m\u001b[43m,\u001b[49m\u001b[43m \u001b[49m\u001b[43mnum_items\u001b[49m\u001b[43m)\u001b[49m\n\u001b[0;32m      7\u001b[0m y_train \u001b[38;5;241m=\u001b[39m X_train\u001b[38;5;241m.\u001b[39mcopy()  \u001b[38;5;66;03m# Las etiquetas son las mismas interacciones\u001b[39;00m\n\u001b[0;32m      9\u001b[0m \u001b[38;5;66;03m# Carga y procesa los datos de prueba\u001b[39;00m\n",
      "Cell \u001b[1;32mIn[4], line 13\u001b[0m, in \u001b[0;36mcreate_interaction_matrix\u001b[1;34m(data, num_users, num_items)\u001b[0m\n\u001b[0;32m     12\u001b[0m \u001b[38;5;28;01mdef\u001b[39;00m \u001b[38;5;21mcreate_interaction_matrix\u001b[39m(data, num_users, num_items):\n\u001b[1;32m---> 13\u001b[0m     interactions \u001b[38;5;241m=\u001b[39m \u001b[43mnp\u001b[49m\u001b[38;5;241;43m.\u001b[39;49m\u001b[43mzeros\u001b[49m\u001b[43m(\u001b[49m\u001b[43m(\u001b[49m\u001b[43mnum_users\u001b[49m\u001b[43m,\u001b[49m\u001b[43m \u001b[49m\u001b[43mnum_items\u001b[49m\u001b[43m)\u001b[49m\u001b[43m)\u001b[49m\n\u001b[0;32m     14\u001b[0m     \u001b[38;5;28;01mfor\u001b[39;00m row \u001b[38;5;129;01min\u001b[39;00m data\u001b[38;5;241m.\u001b[39mitertuples():\n\u001b[0;32m     15\u001b[0m         interactions[row\u001b[38;5;241m.\u001b[39mUserId, row\u001b[38;5;241m.\u001b[39mItemId] \u001b[38;5;241m=\u001b[39m \u001b[38;5;241m1\u001b[39m\n",
      "\u001b[1;31mMemoryError\u001b[0m: Unable to allocate 13.4 GiB for an array with shape (165673, 10868) and data type float64"
     ]
    }
   ],
   "source": [
    "X_train, y_train, X_test, test_data = process_data(train_path, test_path)\n",
    "\n",
    "codecarbon_tracker = EmissionsTracker()\n",
    "codecarbon_tracker.start()\n",
    "predictions = knn_model(X_train, y_train, X_test)\n",
    "emissions = codecarbon_tracker.stop()\n",
    "print(f\"CO2 emissions: {emissions} kg\")\n",
    "\n",
    "# Calcula las métricas\n",
    "metrics = get_metrics(f\"knn_tensorflow_{dataset}\", test_data, predictions)\n",
    "print(metrics)"
   ]
  }
 ],
 "metadata": {
  "kernelspec": {
   "display_name": "Python 3",
   "language": "python",
   "name": "python3"
  },
  "language_info": {
   "codemirror_mode": {
    "name": "ipython",
    "version": 3
   },
   "file_extension": ".py",
   "mimetype": "text/x-python",
   "name": "python",
   "nbconvert_exporter": "python",
   "pygments_lexer": "ipython3",
   "version": "3.12.3"
  }
 },
 "nbformat": 4,
 "nbformat_minor": 2
}

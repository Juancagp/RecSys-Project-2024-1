{
 "cells": [
  {
   "cell_type": "code",
   "execution_count": null,
   "metadata": {},
   "outputs": [],
   "source": [
    "import os\n",
    "import tensorflow as tf\n",
    "import pandas as pd\n",
    "import numpy as np\n",
    "from sklearn.preprocessing import StandardScaler\n",
    "from metrics import get_metrics"
   ]
  },
  {
   "cell_type": "code",
   "execution_count": null,
   "metadata": {},
   "outputs": [],
   "source": [
    "dataset = \"coveo\"   # coveo, diginetica, rees46, retailrocket, yoochoose\n",
    "dataset_path = f\"../datasets/{dataset}\""
   ]
  },
  {
   "cell_type": "code",
   "execution_count": null,
   "metadata": {},
   "outputs": [],
   "source": [
    "train_path = os.path.join(dataset_path,f\"{dataset}_processed_view_train_full.tsv\")\n",
    "test_path = os.path.join(dataset_path,f\"{dataset}_processed_view_test.tsv\")"
   ]
  },
  {
   "cell_type": "code",
   "execution_count": null,
   "metadata": {},
   "outputs": [],
   "source": [
    "def load_and_process_data(path):\n",
    "    data = pd.read_csv(path, sep='\\t')\n",
    "\n",
    "    user_ids = data['SessionId'].astype('category').cat.codes.values\n",
    "    item_ids = data['ItemId'].astype('category').cat.codes.values\n",
    "    data['UserId'] = user_ids\n",
    "    data['ItemId'] = item_ids\n",
    "\n",
    "    return data, len(np.unique(user_ids)), len(np.unique(item_ids))\n",
    "\n",
    "\n",
    "def create_interaction_matrix(data, num_users, num_items):\n",
    "    interactions = np.zeros((num_users, num_items))\n",
    "    for row in data.itertuples():\n",
    "        interactions[row.UserId, row.ItemId] = 1\n",
    "    return interactions\n",
    "\n",
    "\n",
    "def knn_model(X_train, y_train, X_test, k=20):\n",
    "    train_data = tf.constant(X_train, dtype=tf.float32)\n",
    "    test_data = tf.constant(X_test, dtype=tf.float32)\n",
    "    train_labels = tf.constant(y_train, dtype=tf.int32)\n",
    "\n",
    "    distances = tf.norm(train_data[:, tf.newaxis] - test_data[tf.newaxis, :], axis=2)\n",
    "    _, indices = tf.nn.top_k(-distances, k=k)\n",
    "    nearest_labels = tf.gather(train_labels, indices)\n",
    "    predictions = tf.math.reduce_mode(nearest_labels, axis=1)\n",
    "    \n",
    "    return predictions.numpy(), X_train, y_train"
   ]
  },
  {
   "cell_type": "code",
   "execution_count": null,
   "metadata": {},
   "outputs": [],
   "source": [
    "# Carga y procesa los datos de entrenamiento\n",
    "train_data, num_users, num_items = load_and_process_data(train_path)\n",
    "\n",
    "# Crea la matriz de interacciones para los datos de entrenamiento\n",
    "X_train = create_interaction_matrix(train_data, num_users, num_items)\n",
    "y_train = X_train.copy()  # Las etiquetas son las mismas interacciones\n",
    "\n",
    "# Carga y procesa los datos de prueba\n",
    "test_data, _, _ = load_and_process_data(test_path)\n",
    "\n",
    "# Crea la matriz de interacciones para los datos de prueba\n",
    "X_test = create_interaction_matrix(test_data, num_users, num_items)\n",
    "\n",
    "# Normaliza los datos\n",
    "scaler = StandardScaler()\n",
    "X_train = scaler.fit_transform(X_train)\n",
    "X_test = scaler.transform(X_test)\n",
    "\n",
    "# Entrena y evalúa el modelo KNN\n",
    "predictions, X_train, y_train = knn_model(X_train, y_train, X_test)\n",
    "\n",
    "# Calcula las métricas\n",
    "metrics = get_metrics(f\"knn_tensorflow_{dataset}\", test_data, predictions)"
   ]
  }
 ],
 "metadata": {
  "language_info": {
   "name": "python"
  }
 },
 "nbformat": 4,
 "nbformat_minor": 2
}

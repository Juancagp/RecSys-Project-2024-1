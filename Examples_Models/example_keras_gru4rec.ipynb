{
 "cells": [
  {
   "cell_type": "code",
   "execution_count": 1,
   "metadata": {},
   "outputs": [],
   "source": [
    "import os\n",
    "from experiment_setup import setups"
   ]
  },
  {
   "cell_type": "code",
   "execution_count": 2,
   "metadata": {},
   "outputs": [],
   "source": [
    "# download the dataset, the links can be fund in the README\n",
    "dataset_path = \"../datasets/coveo_ecommerce\"\n",
    "model_path = \"../trained_models\""
   ]
  },
  {
   "attachments": {},
   "cell_type": "markdown",
   "metadata": {},
   "source": [
    "## Run the preprocess script, specific to the dataset you chose"
   ]
  },
  {
   "attachments": {},
   "cell_type": "markdown",
   "metadata": {},
   "source": [
    "- The preprocessing script in general, executes the following steps:\n",
    "    - Loads the raw data, with correct types\n",
    "    - Creates the sessions\n",
    "    - Removes duplicated items. An item is considered as a duplicate if the preceding (based on time) event in the same session contains the exact same item.\n",
    "    - Performes iterative support filtering\n",
    "        - Removes sessions with only one event\n",
    "        - Removes items with less than 5 events\n",
    "        - Until the size of the dataset changes\n"
   ]
  },
  {
   "cell_type": "code",
   "execution_count": null,
   "metadata": {},
   "outputs": [],
   "source": [
    "%run ../Preprocess/coveo_preproc.py --path $dataset_path"
   ]
  },
  {
   "attachments": {},
   "cell_type": "markdown",
   "metadata": {},
   "source": [
    "## Use a specific setup for your dataset"
   ]
  },
  {
   "cell_type": "code",
   "execution_count": 3,
   "metadata": {},
   "outputs": [],
   "source": [
    "params = setups[\"coveo\"][\"params_xe\"]"
   ]
  },
  {
   "cell_type": "code",
   "execution_count": 4,
   "metadata": {},
   "outputs": [],
   "source": [
    "train_path = os.path.join(dataset_path,\"coveo_processed_view_train_full.tsv\")\n",
    "test_path = os.path.join(dataset_path,\"coveo_processed_view_test.tsv\")"
   ]
  },
  {
   "cell_type": "code",
   "execution_count": 10,
   "metadata": {},
   "outputs": [],
   "source": [
    "def create_keras_gru4rec_script(model_name, train_path, test_path, model_path, loss, optim, layers, batch_size, dropout_p_hidden, learning_rate, n_epochs, m, use_correct_mask_reset):\n",
    "    s_train_full = f\"python ../KerasGRU4Rec/model/gru4rec.py --train_path {train_path} --test_path {test_path} --save_path {model_path}/{model_name} --lr {learning_rate} --hidden_size {layers} --dropout_p_hidden {dropout_p_hidden} --batch_size {batch_size}  --optim {optim} --epochs {n_epochs} {'--use_correct_mask_reset' if use_correct_mask_reset else ''}\"\n",
    "    s_test_full = f\"python /db_vol/aczapp/sandbox/third_parties/KerasGRU4Rec/model/gru4rec.py --train_path {train_path} --test_path {test_path} --resume {model_path}/KerasGRU4Rec/temp/GRU4REC_{n_epochs-1}.h5 --batch_size {batch_size} --eval_only True --m {m}\"\n",
    "    return s_train_full, s_test_full"
   ]
  },
  {
   "cell_type": "code",
   "execution_count": 11,
   "metadata": {},
   "outputs": [],
   "source": [
    "loss = params[\"loss\"]\n",
    "optim = params[\"optim\"]\n",
    "const_emb = params[\"constrained_embedding\"]\n",
    "embed = params[\"embedding\"]\n",
    "final_act = params[\"final_act\"]\n",
    "layers = params[\"layers\"]\n",
    "batch_size = params[\"batch_size\"]\n",
    "dropout_p_embed = params[\"dropout_p_embed\"]\n",
    "dropout_p_hidden = params[\"dropout_p_hidden\"]\n",
    "learning_rate = params[\"learning_rate\"]\n",
    "momentum = params[\"momentum\"]\n",
    "sample_alpha = params[\"sample_alpha\"]\n",
    "bpreg = params[\"bpreg\"]\n",
    "logq = params[\"logq\"]\n",
    "hidden_act = params[\"hidden_act\"]\n",
    "n_epochs = 5\n",
    "m = '1 5 10 20'"
   ]
  },
  {
   "attachments": {},
   "cell_type": "markdown",
   "metadata": {},
   "source": [
    "## Train & test the out-of-the-box model"
   ]
  },
  {
   "attachments": {},
   "cell_type": "markdown",
   "metadata": {},
   "source": [
    "### Train the out-of-the-box model"
   ]
  },
  {
   "cell_type": "code",
   "execution_count": 12,
   "metadata": {},
   "outputs": [],
   "source": [
    "train_script_oob, test_script_oob = create_keras_gru4rec_script(model_name='keras_gru4rec_oob', train_path=train_path, test_path=test_path, model_path=model_path, loss=loss, optim='adam', layers=100, batch_size=batch_size, dropout_p_hidden=0.25, learning_rate=0.001, n_epochs=n_epochs, m=m, use_correct_mask_reset=False)"
   ]
  },
  {
   "cell_type": "code",
   "execution_count": 13,
   "metadata": {},
   "outputs": [
    {
     "name": "stdout",
     "output_type": "stream",
     "text": [
      "python ../KerasGRU4Rec/model/gru4rec.py --train_path ../datasets/coveo_ecommerce\\coveo_processed_view_train_full.tsv --test_path ../datasets/coveo_ecommerce\\coveo_processed_view_test.tsv --save_path ../trained_models/keras_gru4rec_oob --hidden_size 100 --dropout_p_hidden 0.25 --batch_size 32  --optim adam --epochs 5 \n"
     ]
    }
   ],
   "source": [
    "print(train_script_oob)"
   ]
  },
  {
   "cell_type": "code",
   "execution_count": 8,
   "metadata": {},
   "outputs": [
    {
     "name": "stderr",
     "output_type": "stream",
     "text": [
      "[codecarbon WARNING @ 20:16:03] Invalid gpu_ids format. Expected a string or a list of ints.\n",
      "[codecarbon INFO @ 20:16:03] [setup] RAM Tracking...\n",
      "[codecarbon INFO @ 20:16:03] [setup] GPU Tracking...\n",
      "[codecarbon INFO @ 20:16:05] Tracking Nvidia GPU via pynvml\n",
      "[codecarbon INFO @ 20:16:05] [setup] CPU Tracking...\n",
      "[codecarbon WARNING @ 20:16:05] No CPU tracking mode found. Falling back on CPU constant mode.\n",
      "[codecarbon WARNING @ 20:16:06] We saw that you have a 13th Gen Intel(R) Core(TM) i9-13900HX but we don't know it. Please contact us.\n",
      "[codecarbon INFO @ 20:16:06] CPU Model on constant consumption mode: 13th Gen Intel(R) Core(TM) i9-13900HX\n",
      "[codecarbon INFO @ 20:16:07] >>> Tracker's metadata:\n",
      "[codecarbon INFO @ 20:16:07]   Platform system: Windows-11-10.0.22631-SP0\n",
      "[codecarbon INFO @ 20:16:07]   Python version: 3.12.3\n",
      "[codecarbon INFO @ 20:16:07]   CodeCarbon version: 2.4.2\n",
      "[codecarbon INFO @ 20:16:07]   Available RAM : 31.746 GB\n",
      "[codecarbon INFO @ 20:16:07]   CPU count: 32\n",
      "[codecarbon INFO @ 20:16:07]   CPU model: 13th Gen Intel(R) Core(TM) i9-13900HX\n",
      "[codecarbon INFO @ 20:16:07]   GPU count: 1\n",
      "[codecarbon INFO @ 20:16:07]   GPU model: 1 x NVIDIA GeForce RTX 4090 Laptop GPU\n"
     ]
    },
    {
     "name": "stdout",
     "output_type": "stream",
     "text": [
      "CarbonTracker: The following components were found: GPU with device(s) NVIDIA GeForce RTX 4090 Laptop GPU.\n",
      "CarbonTracker: WARNING - Failed to retrieve carbon intensity: Defaulting to average carbon intensity 374.46323 gCO2/kWh.\n"
     ]
    },
    {
     "name": "stderr",
     "output_type": "stream",
     "text": [
      "[codecarbon INFO @ 20:16:20] Energy consumed for RAM : 0.000033 kWh. RAM Power : 11.904736518859863 W\n",
      "[codecarbon INFO @ 20:16:20] Energy consumed for all GPUs : 0.000119 kWh. Total GPU Power : 42.62807491466081 W\n",
      "[codecarbon INFO @ 20:16:20] Energy consumed for all CPUs : 0.000123 kWh. Total CPU Power : 42.5 W\n",
      "[codecarbon INFO @ 20:16:20] 0.000275 kWh of electricity used since the beginning.\n"
     ]
    },
    {
     "name": "stdout",
     "output_type": "stream",
     "text": [
      "CarbonTracker: WARNING - Failed to retrieve carbon intensity: Defaulting to average carbon intensity 374.46323 gCO2/kWh.\n",
      "CarbonTracker: Average carbon intensity during training was 374.46 gCO2/kWh at detected location: Santiago, Santiago Metropolitan, CL.\n",
      "CarbonTracker: \n",
      "Actual consumption for 1 epoch(s):\n",
      "\tTime:\t0:00:10\n",
      "\tEnergy:\t0.002565742890 kWh\n",
      "\tCO2eq:\t0.960776369946 g\n",
      "\tThis is equivalent to:\n",
      "\t0.008937454604 km travelled by car\n",
      "CarbonTracker: WARNING - Failed to retrieve carbon intensity: Defaulting to average carbon intensity 374.46323 gCO2/kWh.\n",
      "CarbonTracker: Live carbon intensity could not be fetched at detected location: Santiago, Santiago Metropolitan, CL. Defaulted to average carbon intensity for CL in 2021 of 374.46 gCO2/kWh. at detected location: Santiago, Santiago Metropolitan, CL.\n",
      "CarbonTracker: \n",
      "Predicted consumption for 1 epoch(s):\n",
      "\tTime:\t0:00:10\n",
      "\tEnergy:\t0.002565742890 kWh\n",
      "\tCO2eq:\t0.960776369946 g\n",
      "\tThis is equivalent to:\n",
      "\t0.008937454604 km travelled by car\n",
      "CarbonTracker: Finished monitoring.\n",
      "Salida de STDOUT:                       Args                                             Values\n",
      "0                   resume                                               None\n",
      "1               train_path  ../datasets/coveo_ecommerce\\coveo_processed_vi...\n",
      "2                eval_only                                              False\n",
      "3                test_path  ../datasets/coveo_ecommerce\\coveo_processed_vi...\n",
      "4                save_path                ../trained_models/keras_gru4rec_oob\n",
      "5                       lr                                              0.001\n",
      "6                    optim                                               adam\n",
      "7              hidden_size                                                100\n",
      "8               batch_size                                                 32\n",
      "9         dropout_p_hidden                                               0.25\n",
      "10         eval_all_epochs                                              False\n",
      "11            save_weights                                               True\n",
      "12                  epochs                                                  5\n",
      "13                       m                                               [20]\n",
      "14  use_correct_mask_reset                                              False\n",
      "\n"
     ]
    },
    {
     "data": {
      "text/plain": [
       "9.13957657705152e-05"
      ]
     },
     "execution_count": 8,
     "metadata": {},
     "output_type": "execute_result"
    }
   ],
   "source": [
    "from model_tracker import track_training_C02_emissions\n",
    "\n",
    "track_training_C02_emissions(train_script_oob, \"keras_gru4rec_oob\", \"coveo\")"
   ]
  },
  {
   "attachments": {},
   "cell_type": "markdown",
   "metadata": {},
   "source": [
    "### Test the out-of-the-box model"
   ]
  },
  {
   "cell_type": "code",
   "execution_count": null,
   "metadata": {},
   "outputs": [],
   "source": [
    "os.system(test_script_oob)"
   ]
  },
  {
   "attachments": {},
   "cell_type": "markdown",
   "metadata": {},
   "source": [
    "## Train & test the minor fix model\n"
   ]
  },
  {
   "cell_type": "code",
   "execution_count": null,
   "metadata": {},
   "outputs": [],
   "source": [
    "train_script_minor, test_script_minor = create_keras_gru4rec_script(model_name='keras_gru4rec_minorfix', train_path=train_path, test_path=test_path, model_path=model_path, loss=loss, optim=optim, layers=layers, batch_size=batch_size, dropout_p_hidden=dropout_p_hidden, learning_rate=learning_rate, n_epochs=n_epochs, m=m, use_correct_mask_reset=False)"
   ]
  },
  {
   "attachments": {},
   "cell_type": "markdown",
   "metadata": {},
   "source": [
    "### Train the minor fix model"
   ]
  },
  {
   "cell_type": "code",
   "execution_count": null,
   "metadata": {},
   "outputs": [],
   "source": [
    "os.system(train_script_minor)"
   ]
  },
  {
   "attachments": {},
   "cell_type": "markdown",
   "metadata": {},
   "source": [
    "### Test the minor fix model"
   ]
  },
  {
   "cell_type": "code",
   "execution_count": null,
   "metadata": {},
   "outputs": [],
   "source": [
    "os.system(test_script_minor)"
   ]
  },
  {
   "attachments": {},
   "cell_type": "markdown",
   "metadata": {},
   "source": [
    "## Train & test the major fix model"
   ]
  },
  {
   "cell_type": "code",
   "execution_count": null,
   "metadata": {},
   "outputs": [],
   "source": [
    "train_script_major, test_script_major = create_keras_gru4rec_script(model_name='keras_gru4rec_major', train_path=train_path, model_path=model_path, loss=loss, optim=optim, layers=layers, batch_size=batch_size, dropout_p_hidden=dropout_p_hidden, learning_rate=learning_rate, n_epochs=n_epochs, m=m, use_correct_mask_reset=True)"
   ]
  },
  {
   "attachments": {},
   "cell_type": "markdown",
   "metadata": {},
   "source": [
    "### Train the major fix model"
   ]
  },
  {
   "cell_type": "code",
   "execution_count": null,
   "metadata": {},
   "outputs": [],
   "source": [
    "os.system(train_script_major)"
   ]
  },
  {
   "attachments": {},
   "cell_type": "markdown",
   "metadata": {},
   "source": [
    "### Test the major fix model"
   ]
  },
  {
   "cell_type": "code",
   "execution_count": null,
   "metadata": {},
   "outputs": [],
   "source": [
    "os.system(test_script_major)"
   ]
  }
 ],
 "metadata": {
  "kernelspec": {
   "display_name": "Python 3",
   "language": "python",
   "name": "python3"
  },
  "language_info": {
   "codemirror_mode": {
    "name": "ipython",
    "version": 3
   },
   "file_extension": ".py",
   "mimetype": "text/x-python",
   "name": "python",
   "nbconvert_exporter": "python",
   "pygments_lexer": "ipython3",
   "version": "3.12.3"
  },
  "orig_nbformat": 4
 },
 "nbformat": 4,
 "nbformat_minor": 2
}

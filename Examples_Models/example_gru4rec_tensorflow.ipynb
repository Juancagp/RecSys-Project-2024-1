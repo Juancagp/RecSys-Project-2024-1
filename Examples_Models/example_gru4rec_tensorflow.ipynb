{
 "cells": [
  {
   "cell_type": "code",
   "execution_count": 28,
   "metadata": {},
   "outputs": [],
   "source": [
    "import os\n",
    "from experiment_setup import setups"
   ]
  },
  {
   "cell_type": "code",
   "execution_count": 29,
   "metadata": {},
   "outputs": [],
   "source": [
    "# download the dataset, the links can be fund in the README\n",
    "dataset_path = \"../datasets/diginetica\"\n",
    "model_path = \"../trained_models\""
   ]
  },
  {
   "attachments": {},
   "cell_type": "markdown",
   "metadata": {},
   "source": [
    "## Run the preprocess script, specific to the dataset you chose"
   ]
  },
  {
   "attachments": {},
   "cell_type": "markdown",
   "metadata": {},
   "source": [
    "- The preprocessing script in general, executes the following steps:\n",
    "    - Loads the raw data, with correct types\n",
    "    - Creates the sessions\n",
    "    - Removes duplicated items. An item is considered as a duplicate if the preceding (based on time) event in the same session contains the exact same item.\n",
    "    - Performes iterative support filtering\n",
    "        - Removes sessions with only one event\n",
    "        - Removes items with less than 5 events\n",
    "        - Until the size of the dataset changes\n"
   ]
  },
  {
   "cell_type": "code",
   "execution_count": 4,
   "metadata": {},
   "outputs": [
    {
     "name": "stdout",
     "output_type": "stream",
     "text": [
      "1566074 274797 11365\n",
      "1464757 173480 11344\n",
      "1463706 173480 10869\n",
      "1463649 173423 10869\n",
      "1463645 173423 10868\n",
      "1463645 173423 10868\n",
      "1463645 173423 10868\n"
     ]
    },
    {
     "name": "stderr",
     "output_type": "stream",
     "text": [
      "C:\\Users\\EVILAB\\Documents\\RecSys-Project-2024-1\\Preprocess\\coveo_preproc.py:177: DeprecationWarning: datetime.datetime.utcfromtimestamp() is deprecated and scheduled for removal in a future version. Use timezone-aware objects to represent datetimes in UTC: datetime.datetime.fromtimestamp(timestamp, datetime.UTC).\n",
      "  dt.datetime.utcfromtimestamp(data.Time.min() / 1000).strftime(\n",
      "C:\\Users\\EVILAB\\Documents\\RecSys-Project-2024-1\\Preprocess\\coveo_preproc.py:182: DeprecationWarning: datetime.datetime.utcfromtimestamp() is deprecated and scheduled for removal in a future version. Use timezone-aware objects to represent datetimes in UTC: datetime.datetime.fromtimestamp(timestamp, datetime.UTC).\n",
      "  dt.datetime.utcfromtimestamp(data.Time.max() / 1000).strftime(\n",
      "C:\\Users\\EVILAB\\Documents\\RecSys-Project-2024-1\\Preprocess\\coveo_preproc.py:177: DeprecationWarning: datetime.datetime.utcfromtimestamp() is deprecated and scheduled for removal in a future version. Use timezone-aware objects to represent datetimes in UTC: datetime.datetime.fromtimestamp(timestamp, datetime.UTC).\n",
      "  dt.datetime.utcfromtimestamp(data.Time.min() / 1000).strftime(\n",
      "C:\\Users\\EVILAB\\Documents\\RecSys-Project-2024-1\\Preprocess\\coveo_preproc.py:182: DeprecationWarning: datetime.datetime.utcfromtimestamp() is deprecated and scheduled for removal in a future version. Use timezone-aware objects to represent datetimes in UTC: datetime.datetime.fromtimestamp(timestamp, datetime.UTC).\n",
      "  dt.datetime.utcfromtimestamp(data.Time.max() / 1000).strftime(\n",
      "C:\\Users\\EVILAB\\Documents\\RecSys-Project-2024-1\\Preprocess\\coveo_preproc.py:177: DeprecationWarning: datetime.datetime.utcfromtimestamp() is deprecated and scheduled for removal in a future version. Use timezone-aware objects to represent datetimes in UTC: datetime.datetime.fromtimestamp(timestamp, datetime.UTC).\n",
      "  dt.datetime.utcfromtimestamp(data.Time.min() / 1000).strftime(\n",
      "C:\\Users\\EVILAB\\Documents\\RecSys-Project-2024-1\\Preprocess\\coveo_preproc.py:182: DeprecationWarning: datetime.datetime.utcfromtimestamp() is deprecated and scheduled for removal in a future version. Use timezone-aware objects to represent datetimes in UTC: datetime.datetime.fromtimestamp(timestamp, datetime.UTC).\n",
      "  dt.datetime.utcfromtimestamp(data.Time.max() / 1000).strftime(\n",
      "C:\\Users\\EVILAB\\Documents\\RecSys-Project-2024-1\\Preprocess\\coveo_preproc.py:177: DeprecationWarning: datetime.datetime.utcfromtimestamp() is deprecated and scheduled for removal in a future version. Use timezone-aware objects to represent datetimes in UTC: datetime.datetime.fromtimestamp(timestamp, datetime.UTC).\n",
      "  dt.datetime.utcfromtimestamp(data.Time.min() / 1000).strftime(\n",
      "C:\\Users\\EVILAB\\Documents\\RecSys-Project-2024-1\\Preprocess\\coveo_preproc.py:182: DeprecationWarning: datetime.datetime.utcfromtimestamp() is deprecated and scheduled for removal in a future version. Use timezone-aware objects to represent datetimes in UTC: datetime.datetime.fromtimestamp(timestamp, datetime.UTC).\n",
      "  dt.datetime.utcfromtimestamp(data.Time.max() / 1000).strftime(\n"
     ]
    },
    {
     "name": "stdout",
     "output_type": "stream",
     "text": [
      "                                             Dataset  NumEvents  NumSessions  \\\n",
      "0      coveo_ecommerce\\coveo_processed_view_full.tsv    1463645       173423   \n",
      "1      coveo_ecommerce\\coveo_processed_view_test.tsv      52501         7748   \n",
      "2  coveo_ecommerce\\coveo_processed_view_train_ful...    1411113       165673   \n",
      "3  coveo_ecommerce\\coveo_processed_view_train_tr.tsv    1368003       159766   \n",
      "4  coveo_ecommerce\\coveo_processed_view_train_val...      43032         5905   \n",
      "\n",
      "   NumItems    NumDays                   StartTime  \\\n",
      "0     10868  17.999833  2018-12-08 00:00:11.994000   \n",
      "1      8230   0.998696  2018-12-25 00:01:50.223000   \n",
      "2     10868  16.999566  2018-12-08 00:00:11.994000   \n",
      "3     10868  15.999713  2018-12-08 00:00:11.994000   \n",
      "4      8014   0.997503  2018-12-24 00:03:10.240000   \n",
      "\n",
      "                      EndTime  AvgItemViews  MinSessionLength  \\\n",
      "0  2018-12-25 23:59:57.577000    134.674733                 2   \n",
      "1  2018-12-25 23:59:57.577000      6.379222                 2   \n",
      "2  2018-12-24 23:59:34.483000    129.841093                 2   \n",
      "3  2018-12-23 23:59:47.187000    125.874402                 2   \n",
      "4  2018-12-24 23:59:34.483000      5.369603                 2   \n",
      "\n",
      "   MaxSessionLength  AvgSessionLength  MinSessionTime (sec)  \\\n",
      "0               454          8.439740                 0.001   \n",
      "1               146          6.776071                 0.001   \n",
      "2               454          8.517459                 0.001   \n",
      "3               454          8.562541                 0.001   \n",
      "4               134          7.287384                 0.004   \n",
      "\n",
      "   MaxSessionTime (sec)  \n",
      "0             59683.003  \n",
      "1             12440.338  \n",
      "2             59683.003  \n",
      "3             59683.003  \n",
      "4             11941.152  \n"
     ]
    },
    {
     "name": "stderr",
     "output_type": "stream",
     "text": [
      "C:\\Users\\EVILAB\\Documents\\RecSys-Project-2024-1\\Preprocess\\coveo_preproc.py:177: DeprecationWarning: datetime.datetime.utcfromtimestamp() is deprecated and scheduled for removal in a future version. Use timezone-aware objects to represent datetimes in UTC: datetime.datetime.fromtimestamp(timestamp, datetime.UTC).\n",
      "  dt.datetime.utcfromtimestamp(data.Time.min() / 1000).strftime(\n",
      "C:\\Users\\EVILAB\\Documents\\RecSys-Project-2024-1\\Preprocess\\coveo_preproc.py:182: DeprecationWarning: datetime.datetime.utcfromtimestamp() is deprecated and scheduled for removal in a future version. Use timezone-aware objects to represent datetimes in UTC: datetime.datetime.fromtimestamp(timestamp, datetime.UTC).\n",
      "  dt.datetime.utcfromtimestamp(data.Time.max() / 1000).strftime(\n"
     ]
    }
   ],
   "source": [
    "%run ../Preprocess/coveo_preproc.py --path $dataset_path"
   ]
  },
  {
   "attachments": {},
   "cell_type": "markdown",
   "metadata": {},
   "source": [
    "## Use a specific setup for your dataset"
   ]
  },
  {
   "cell_type": "code",
   "execution_count": 24,
   "metadata": {},
   "outputs": [],
   "source": [
    "params = setups[\"diginetica\"][\"params_xe\"]"
   ]
  },
  {
   "cell_type": "code",
   "execution_count": 25,
   "metadata": {},
   "outputs": [],
   "source": [
    "train_path = os.path.join(dataset_path,\"diginetica_processed_view_train_full.tsv\")\n",
    "test_path = os.path.join(dataset_path,\"diginetica_processed_view_test.tsv\")"
   ]
  },
  {
   "cell_type": "code",
   "execution_count": 26,
   "metadata": {},
   "outputs": [],
   "source": [
    "def create_gru4rec_tensorflow_script(model_name, train_path, test_path, model_path, loss, final_act, layers, batch_size, dropout_p_hidden, learning_rate, hidden_act, n_epochs, m, decay, initial_accumulator):\n",
    "        \"\"\"Creates the train and test script.\n",
    "        \"\"\"\n",
    "        s_train_full = (\n",
    "                f\"python ../GRU4Rec_TensorFlow/gru4rec_BP/main.py --train_path {train_path} \"\n",
    "                f\"--test_path {test_path} --checkpoint_dir {model_path}/{model_name} --layer {1} --size {layers} \"\n",
    "                f\"--epoch {n_epochs} --lr {learning_rate} --hidden_act {hidden_act} --final_act {final_act} \"\n",
    "                f\"--loss {loss} --dropout {dropout_p_hidden} --batch_size {batch_size} \"\n",
    "                f\"--initial_accumulator_value {initial_accumulator} --decay {decay}\"\n",
    "        )\n",
    "        s_test_full = s_train_full + f\" --train 0 --test {n_epochs-1} --m {m}\"\n",
    "        return s_train_full, s_test_full"
   ]
  },
  {
   "cell_type": "code",
   "execution_count": 27,
   "metadata": {},
   "outputs": [],
   "source": [
    "loss = params[\"loss\"]\n",
    "optim = params[\"optim\"]\n",
    "const_emb = params[\"constrained_embedding\"]\n",
    "embed = params[\"embedding\"]\n",
    "final_act = params[\"final_act\"]\n",
    "layers = params[\"layers\"]\n",
    "batch_size = params[\"batch_size\"]\n",
    "dropout_p_embed = params[\"dropout_p_embed\"]\n",
    "dropout_p_hidden = params[\"dropout_p_hidden\"]\n",
    "learning_rate = params[\"learning_rate\"]\n",
    "momentum = params[\"momentum\"]\n",
    "sample_alpha = params[\"sample_alpha\"]\n",
    "bpreg = params[\"bpreg\"]\n",
    "logq = params[\"logq\"]\n",
    "hidden_act = params[\"hidden_act\"]\n",
    "n_epochs = 5\n",
    "m = '1 5 10 20'"
   ]
  },
  {
   "attachments": {},
   "cell_type": "markdown",
   "metadata": {},
   "source": [
    "## Train & test the out-of-the-box model"
   ]
  },
  {
   "cell_type": "code",
   "execution_count": 30,
   "metadata": {},
   "outputs": [],
   "source": [
    "train_script_oob, test_script_oob = create_gru4rec_tensorflow_script(model_name=\"gru4rec_tensorflow_oob\", train_path=train_path, test_path=test_path, model_path=model_path, loss=loss, final_act=final_act, layers=layers, batch_size=50, dropout_p_hidden=dropout_p_hidden, learning_rate=learning_rate, hidden_act=hidden_act, n_epochs=n_epochs, m=m, decay=0.96, initial_accumulator=1e-1)"
   ]
  },
  {
   "cell_type": "markdown",
   "metadata": {},
   "source": [
    "### Train the out-of-the-box model"
   ]
  },
  {
   "cell_type": "code",
   "execution_count": 32,
   "metadata": {},
   "outputs": [
    {
     "name": "stderr",
     "output_type": "stream",
     "text": [
      "[codecarbon WARNING @ 20:51:32] Invalid gpu_ids format. Expected a string or a list of ints.\n",
      "[codecarbon INFO @ 20:51:32] [setup] RAM Tracking...\n",
      "[codecarbon INFO @ 20:51:32] [setup] GPU Tracking...\n",
      "[codecarbon INFO @ 20:51:32] Tracking Nvidia GPU via pynvml\n",
      "[codecarbon INFO @ 20:51:34] [setup] CPU Tracking...\n",
      "[codecarbon WARNING @ 20:51:34] No CPU tracking mode found. Falling back on CPU constant mode.\n",
      "[codecarbon WARNING @ 20:51:35] We saw that you have a 13th Gen Intel(R) Core(TM) i9-13900HX but we don't know it. Please contact us.\n",
      "[codecarbon INFO @ 20:51:35] CPU Model on constant consumption mode: 13th Gen Intel(R) Core(TM) i9-13900HX\n",
      "[codecarbon INFO @ 20:51:35] >>> Tracker's metadata:\n",
      "[codecarbon INFO @ 20:51:35]   Platform system: Windows-11-10.0.22631-SP0\n",
      "[codecarbon INFO @ 20:51:35]   Python version: 3.12.3\n",
      "[codecarbon INFO @ 20:51:35]   CodeCarbon version: 2.4.2\n",
      "[codecarbon INFO @ 20:51:35]   Available RAM : 31.746 GB\n",
      "[codecarbon INFO @ 20:51:35]   CPU count: 32\n",
      "[codecarbon INFO @ 20:51:35]   CPU model: 13th Gen Intel(R) Core(TM) i9-13900HX\n",
      "[codecarbon INFO @ 20:51:35]   GPU count: 1\n",
      "[codecarbon INFO @ 20:51:35]   GPU model: 1 x NVIDIA GeForce RTX 4090 Laptop GPU\n"
     ]
    },
    {
     "name": "stdout",
     "output_type": "stream",
     "text": [
      "CarbonTracker: The following components were found: GPU with device(s) NVIDIA GeForce RTX 4090 Laptop GPU.\n",
      "CarbonTracker: The following components were found: GPU with device(s) NVIDIA GeForce RTX 4090 Laptop GPU.\n",
      "CarbonTracker: The following components were found: GPU with device(s) NVIDIA GeForce RTX 4090 Laptop GPU.\n",
      "CarbonTracker: The following components were found: GPU with device(s) NVIDIA GeForce RTX 4090 Laptop GPU.\n",
      "CarbonTracker: WARNING - Failed to retrieve carbon intensity: Defaulting to average carbon intensity 374.46323 gCO2/kWh.\n",
      "CarbonTracker: WARNING - Failed to retrieve carbon intensity: Defaulting to average carbon intensity 374.46323 gCO2/kWh.\n",
      "CarbonTracker: WARNING - Failed to retrieve carbon intensity: Defaulting to average carbon intensity 374.46323 gCO2/kWh.\n",
      "CarbonTracker: WARNING - Failed to retrieve carbon intensity: Defaulting to average carbon intensity 374.46323 gCO2/kWh.\n"
     ]
    },
    {
     "name": "stderr",
     "output_type": "stream",
     "text": [
      "[codecarbon INFO @ 20:51:54] Energy consumed for RAM : 0.000050 kWh. RAM Power : 11.904736518859863 W\n",
      "[codecarbon INFO @ 20:51:54] Energy consumed for all GPUs : 0.000413 kWh. Total GPU Power : 99.09882924052263 W\n",
      "[codecarbon INFO @ 20:51:54] Energy consumed for all CPUs : 0.000182 kWh. Total CPU Power : 42.5 W\n",
      "[codecarbon INFO @ 20:51:54] 0.000645 kWh of electricity used since the beginning.\n",
      "[codecarbon INFO @ 20:52:09] Energy consumed for RAM : 0.000098 kWh. RAM Power : 11.904736518859863 W\n",
      "[codecarbon INFO @ 20:52:09] Energy consumed for all GPUs : 0.000669 kWh. Total GPU Power : 62.966113901585366 W\n",
      "[codecarbon INFO @ 20:52:09] Energy consumed for all CPUs : 0.000359 kWh. Total CPU Power : 42.5 W\n",
      "[codecarbon INFO @ 20:52:09] 0.001126 kWh of electricity used since the beginning.\n",
      "[codecarbon INFO @ 20:52:24] Energy consumed for RAM : 0.000146 kWh. RAM Power : 11.904736518859863 W\n",
      "[codecarbon INFO @ 20:52:24] Energy consumed for all GPUs : 0.000860 kWh. Total GPU Power : 47.2391967917748 W\n",
      "[codecarbon INFO @ 20:52:24] Energy consumed for all CPUs : 0.000536 kWh. Total CPU Power : 42.5 W\n",
      "[codecarbon INFO @ 20:52:24] 0.001542 kWh of electricity used since the beginning.\n",
      "[codecarbon INFO @ 20:52:38] Energy consumed for RAM : 0.000194 kWh. RAM Power : 11.904736518859863 W\n",
      "[codecarbon INFO @ 20:52:39] Energy consumed for all GPUs : 0.000939 kWh. Total GPU Power : 19.713159715989793 W\n",
      "[codecarbon INFO @ 20:52:39] Energy consumed for all CPUs : 0.000712 kWh. Total CPU Power : 42.5 W\n",
      "[codecarbon INFO @ 20:52:39] 0.001846 kWh of electricity used since the beginning.\n"
     ]
    },
    {
     "name": "stdout",
     "output_type": "stream",
     "text": [
      "CarbonTracker: WARNING - Failed to retrieve carbon intensity: Defaulting to average carbon intensity 374.46323 gCO2/kWh.\n",
      "CarbonTracker: WARNING - Failed to retrieve carbon intensity: Defaulting to average carbon intensity 374.46323 gCO2/kWh.\n",
      "CarbonTracker: WARNING - Failed to retrieve carbon intensity: Defaulting to average carbon intensity 374.46323 gCO2/kWh.\n",
      "CarbonTracker: WARNING - Failed to retrieve carbon intensity: Defaulting to average carbon intensity 374.46323 gCO2/kWh.\n",
      "CarbonTracker: Average carbon intensity during training was 374.46 gCO2/kWh at detected location: Santiago, Santiago Metropolitan, CL.\n",
      "CarbonTracker: Average carbon intensity during training was 374.46 gCO2/kWh at detected location: Santiago, Santiago Metropolitan, CL.\n",
      "CarbonTracker: Average carbon intensity during training was 374.46 gCO2/kWh at detected location: Santiago, Santiago Metropolitan, CL.\n",
      "CarbonTracker: Average carbon intensity during training was 374.46 gCO2/kWh at detected location: Santiago, Santiago Metropolitan, CL.\n",
      "CarbonTracker: \n",
      "Actual consumption for 1 epoch(s):\n",
      "\tTime:\t0:01:00\n",
      "\tEnergy:\t0.012452121068 kWh\n",
      "\tCO2eq:\t4.662861475526 g\n",
      "\tThis is equivalent to:\n",
      "\t0.043375455586 km travelled by car\n",
      "CarbonTracker: \n",
      "Actual consumption for 1 epoch(s):\n",
      "\tTime:\t0:01:00\n",
      "\tEnergy:\t0.012452121068 kWh\n",
      "\tCO2eq:\t4.662861475526 g\n",
      "\tThis is equivalent to:\n",
      "\t0.043375455586 km travelled by car\n",
      "CarbonTracker: \n",
      "Actual consumption for 1 epoch(s):\n",
      "\tTime:\t0:01:00\n",
      "\tEnergy:\t0.012452121068 kWh\n",
      "\tCO2eq:\t4.662861475526 g\n",
      "\tThis is equivalent to:\n",
      "\t0.043375455586 km travelled by car\n",
      "CarbonTracker: \n",
      "Actual consumption for 1 epoch(s):\n",
      "\tTime:\t0:01:00\n",
      "\tEnergy:\t0.012452121068 kWh\n",
      "\tCO2eq:\t4.662861475526 g\n",
      "\tThis is equivalent to:\n",
      "\t0.043375455586 km travelled by car\n",
      "CarbonTracker: WARNING - Failed to retrieve carbon intensity: Defaulting to average carbon intensity 374.46323 gCO2/kWh.\n",
      "CarbonTracker: WARNING - Failed to retrieve carbon intensity: Defaulting to average carbon intensity 374.46323 gCO2/kWh.\n",
      "CarbonTracker: WARNING - Failed to retrieve carbon intensity: Defaulting to average carbon intensity 374.46323 gCO2/kWh.\n",
      "CarbonTracker: WARNING - Failed to retrieve carbon intensity: Defaulting to average carbon intensity 374.46323 gCO2/kWh.\n",
      "CarbonTracker: Live carbon intensity could not be fetched at detected location: Santiago, Santiago Metropolitan, CL. Defaulted to average carbon intensity for CL in 2021 of 374.46 gCO2/kWh. at detected location: Santiago, Santiago Metropolitan, CL.\n",
      "CarbonTracker: Live carbon intensity could not be fetched at detected location: Santiago, Santiago Metropolitan, CL. Defaulted to average carbon intensity for CL in 2021 of 374.46 gCO2/kWh. at detected location: Santiago, Santiago Metropolitan, CL.\n",
      "CarbonTracker: Live carbon intensity could not be fetched at detected location: Santiago, Santiago Metropolitan, CL. Defaulted to average carbon intensity for CL in 2021 of 374.46 gCO2/kWh. at detected location: Santiago, Santiago Metropolitan, CL.\n",
      "CarbonTracker: Live carbon intensity could not be fetched at detected location: Santiago, Santiago Metropolitan, CL. Defaulted to average carbon intensity for CL in 2021 of 374.46 gCO2/kWh. at detected location: Santiago, Santiago Metropolitan, CL.\n",
      "CarbonTracker: \n",
      "Predicted consumption for 1 epoch(s):\n",
      "\tTime:\t0:01:00\n",
      "\tEnergy:\t0.012452121068 kWh\n",
      "\tCO2eq:\t4.662861475526 g\n",
      "\tThis is equivalent to:\n",
      "\t0.043375455586 km travelled by car\n",
      "CarbonTracker: \n",
      "Predicted consumption for 1 epoch(s):\n",
      "\tTime:\t0:01:00\n",
      "\tEnergy:\t0.012452121068 kWh\n",
      "\tCO2eq:\t4.662861475526 g\n",
      "\tThis is equivalent to:\n",
      "\t0.043375455586 km travelled by car\n",
      "CarbonTracker: \n",
      "Predicted consumption for 1 epoch(s):\n",
      "\tTime:\t0:01:00\n",
      "\tEnergy:\t0.012452121068 kWh\n",
      "\tCO2eq:\t4.662861475526 g\n",
      "\tThis is equivalent to:\n",
      "\t0.043375455586 km travelled by car\n",
      "CarbonTracker: \n",
      "Predicted consumption for 1 epoch(s):\n",
      "\tTime:\t0:01:00\n",
      "\tEnergy:\t0.012452121068 kWh\n",
      "\tCO2eq:\t4.662861475526 g\n",
      "\tThis is equivalent to:\n",
      "\t0.043375455586 km travelled by car\n",
      "CarbonTracker: Finished monitoring.\n",
      "CarbonTracker: Finished monitoring.\n",
      "CarbonTracker: Finished monitoring.\n",
      "CarbonTracker: Finished monitoring.\n",
      "Salida de STDOUT:                          Args                                    Values\n",
      "0                     n_items                                     40366\n",
      "1                      layers                                         1\n",
      "2                    rnn_size                                       192\n",
      "3                    n_epochs                                         5\n",
      "4               learning_rate                                       0.1\n",
      "5                 is_training                                         1\n",
      "6                  test_model                                         2\n",
      "7                  hidden_act                                      tanh\n",
      "8                   final_act                                   softmax\n",
      "9                        loss                             cross-entropy\n",
      "10                 batch_size                                        50\n",
      "11                      decay                                      0.96\n",
      "12                decay_steps                                   10000.0\n",
      "13             checkpoint_dir  ../trained_models/gru4rec_tensorflow_oob\n",
      "14  initial_accumulator_value                                       0.1\n",
      "15           dropout_p_hidden                                      0.85\n",
      "fitting model...\n",
      "epoch:0 loss: 3.912011 11.18 s 55657.46 e/s 1113.15 mb/s\n",
      "epoch:1 loss: 3.911974 11.33 s 54946.05 e/s 1098.92 mb/s\n",
      "epoch:2 loss: 3.911929 11.13 s 55903.38 e/s 1118.07 mb/s\n",
      "epoch:3 loss: 3.911870 11.08 s 56159.80 e/s 1123.20 mb/s\n",
      "epoch:4 loss: 3.911782 11.07 s 56197.68 e/s 1123.95 mb/s\n",
      "\n"
     ]
    },
    {
     "data": {
      "text/plain": [
       "0.0006139305004492953"
      ]
     },
     "execution_count": 32,
     "metadata": {},
     "output_type": "execute_result"
    }
   ],
   "source": [
    "from model_tracker import track_training_C02_emissions\n",
    "\n",
    "track_training_C02_emissions(train_script_oob, \"gru4rec_tensorflow_oob\", \"diginetica\")"
   ]
  },
  {
   "attachments": {},
   "cell_type": "markdown",
   "metadata": {},
   "source": [
    "### Test the out-of-the-box model"
   ]
  },
  {
   "cell_type": "code",
   "execution_count": 33,
   "metadata": {},
   "outputs": [
    {
     "name": "stdout",
     "output_type": "stream",
     "text": [
      "python ../GRU4Rec_TensorFlow/gru4rec_BP/main.py --train_path ../datasets/diginetica\\diginetica_processed_view_train_full.tsv --test_path ../datasets/diginetica\\diginetica_processed_view_test.tsv --checkpoint_dir ../trained_models/gru4rec_tensorflow_oob --layer 1 --size 192 --epoch 5 --lr 0.1 --hidden_act tanh --final_act softmax --loss cross-entropy --dropout 0.15 --batch_size 50 --initial_accumulator_value 0.1 --decay 0.96 --train 0 --test 4 --m 1 5 10 20\n"
     ]
    },
    {
     "data": {
      "text/plain": [
       "0"
      ]
     },
     "execution_count": 33,
     "metadata": {},
     "output_type": "execute_result"
    }
   ],
   "source": [
    "print(test_script_oob)\n",
    "os.system(test_script_oob)"
   ]
  },
  {
   "attachments": {},
   "cell_type": "markdown",
   "metadata": {},
   "source": [
    "## Train & test the minor fix model\n"
   ]
  },
  {
   "cell_type": "code",
   "execution_count": 34,
   "metadata": {},
   "outputs": [],
   "source": [
    "train_script_minor, test_script_minor = create_gru4rec_tensorflow_script(model_name='gru4rec_tensorflow_minorfix', train_path=train_path, test_path=test_path, model_path=model_path, loss=loss, final_act=final_act, layers=layers, batch_size=batch_size, dropout_p_hidden=dropout_p_hidden, learning_rate=learning_rate, hidden_act=hidden_act, n_epochs=n_epochs, m=m, decay=1.0, initial_accumulator=1e-12)"
   ]
  },
  {
   "attachments": {},
   "cell_type": "markdown",
   "metadata": {},
   "source": [
    "### Train the minor fix model"
   ]
  },
  {
   "cell_type": "code",
   "execution_count": 35,
   "metadata": {},
   "outputs": [
    {
     "name": "stderr",
     "output_type": "stream",
     "text": [
      "[codecarbon WARNING @ 20:56:01] Invalid gpu_ids format. Expected a string or a list of ints.\n",
      "[codecarbon INFO @ 20:56:01] [setup] RAM Tracking...\n",
      "[codecarbon INFO @ 20:56:01] [setup] GPU Tracking...\n",
      "[codecarbon INFO @ 20:56:01] Tracking Nvidia GPU via pynvml\n",
      "[codecarbon INFO @ 20:56:03] [setup] CPU Tracking...\n",
      "[codecarbon WARNING @ 20:56:03] No CPU tracking mode found. Falling back on CPU constant mode.\n",
      "[codecarbon WARNING @ 20:56:04] We saw that you have a 13th Gen Intel(R) Core(TM) i9-13900HX but we don't know it. Please contact us.\n",
      "[codecarbon INFO @ 20:56:04] CPU Model on constant consumption mode: 13th Gen Intel(R) Core(TM) i9-13900HX\n",
      "[codecarbon INFO @ 20:56:04] >>> Tracker's metadata:\n",
      "[codecarbon INFO @ 20:56:04]   Platform system: Windows-11-10.0.22631-SP0\n",
      "[codecarbon INFO @ 20:56:04]   Python version: 3.12.3\n",
      "[codecarbon INFO @ 20:56:04]   CodeCarbon version: 2.4.2\n",
      "[codecarbon INFO @ 20:56:04]   Available RAM : 31.746 GB\n",
      "[codecarbon INFO @ 20:56:04]   CPU count: 32\n",
      "[codecarbon INFO @ 20:56:04]   CPU model: 13th Gen Intel(R) Core(TM) i9-13900HX\n",
      "[codecarbon INFO @ 20:56:04]   GPU count: 1\n",
      "[codecarbon INFO @ 20:56:04]   GPU model: 1 x NVIDIA GeForce RTX 4090 Laptop GPU\n"
     ]
    },
    {
     "name": "stdout",
     "output_type": "stream",
     "text": [
      "CarbonTracker: The following components were found: GPU with device(s) NVIDIA GeForce RTX 4090 Laptop GPU.\n",
      "CarbonTracker: The following components were found: GPU with device(s) NVIDIA GeForce RTX 4090 Laptop GPU.\n",
      "CarbonTracker: The following components were found: GPU with device(s) NVIDIA GeForce RTX 4090 Laptop GPU.\n",
      "CarbonTracker: The following components were found: GPU with device(s) NVIDIA GeForce RTX 4090 Laptop GPU.\n",
      "CarbonTracker: The following components were found: GPU with device(s) NVIDIA GeForce RTX 4090 Laptop GPU.\n",
      "CarbonTracker: WARNING - Failed to retrieve carbon intensity: Defaulting to average carbon intensity 374.46323 gCO2/kWh.\n",
      "CarbonTracker: WARNING - Failed to retrieve carbon intensity: Defaulting to average carbon intensity 374.46323 gCO2/kWh.\n",
      "CarbonTracker: WARNING - Failed to retrieve carbon intensity: Defaulting to average carbon intensity 374.46323 gCO2/kWh.\n",
      "CarbonTracker: WARNING - Failed to retrieve carbon intensity: Defaulting to average carbon intensity 374.46323 gCO2/kWh.\n",
      "CarbonTracker: WARNING - Failed to retrieve carbon intensity: Defaulting to average carbon intensity 374.46323 gCO2/kWh.\n"
     ]
    },
    {
     "name": "stderr",
     "output_type": "stream",
     "text": [
      "[codecarbon INFO @ 20:56:23] Energy consumed for RAM : 0.000051 kWh. RAM Power : 11.904736518859863 W\n",
      "[codecarbon INFO @ 20:56:23] Energy consumed for all GPUs : 0.000439 kWh. Total GPU Power : 102.48604686266538 W\n",
      "[codecarbon INFO @ 20:56:23] Energy consumed for all CPUs : 0.000187 kWh. Total CPU Power : 42.5 W\n",
      "[codecarbon INFO @ 20:56:23] 0.000677 kWh of electricity used since the beginning.\n",
      "[codecarbon INFO @ 20:56:38] Energy consumed for RAM : 0.000099 kWh. RAM Power : 11.904736518859863 W\n",
      "[codecarbon INFO @ 20:56:38] Energy consumed for all GPUs : 0.000575 kWh. Total GPU Power : 33.466073083270224 W\n",
      "[codecarbon INFO @ 20:56:38] Energy consumed for all CPUs : 0.000364 kWh. Total CPU Power : 42.5 W\n",
      "[codecarbon INFO @ 20:56:38] 0.001038 kWh of electricity used since the beginning.\n",
      "[codecarbon INFO @ 20:56:53] Energy consumed for RAM : 0.000147 kWh. RAM Power : 11.904736518859863 W\n",
      "[codecarbon INFO @ 20:56:53] Energy consumed for all GPUs : 0.000719 kWh. Total GPU Power : 35.85721368550234 W\n",
      "[codecarbon INFO @ 20:56:53] Energy consumed for all CPUs : 0.000539 kWh. Total CPU Power : 42.5 W\n",
      "[codecarbon INFO @ 20:56:53] 0.001405 kWh of electricity used since the beginning.\n"
     ]
    },
    {
     "name": "stdout",
     "output_type": "stream",
     "text": [
      "CarbonTracker: WARNING - Failed to retrieve carbon intensity: Defaulting to average carbon intensity 374.46323 gCO2/kWh.\n",
      "CarbonTracker: WARNING - Failed to retrieve carbon intensity: Defaulting to average carbon intensity 374.46323 gCO2/kWh.\n",
      "CarbonTracker: WARNING - Failed to retrieve carbon intensity: Defaulting to average carbon intensity 374.46323 gCO2/kWh.\n",
      "CarbonTracker: WARNING - Failed to retrieve carbon intensity: Defaulting to average carbon intensity 374.46323 gCO2/kWh.\n",
      "CarbonTracker: WARNING - Failed to retrieve carbon intensity: Defaulting to average carbon intensity 374.46323 gCO2/kWh.\n",
      "CarbonTracker: Average carbon intensity during training was 374.46 gCO2/kWh at detected location: Santiago, Santiago Metropolitan, CL.\n",
      "CarbonTracker: Average carbon intensity during training was 374.46 gCO2/kWh at detected location: Santiago, Santiago Metropolitan, CL.\n",
      "CarbonTracker: Average carbon intensity during training was 374.46 gCO2/kWh at detected location: Santiago, Santiago Metropolitan, CL.\n",
      "CarbonTracker: Average carbon intensity during training was 374.46 gCO2/kWh at detected location: Santiago, Santiago Metropolitan, CL.\n",
      "CarbonTracker: Average carbon intensity during training was 374.46 gCO2/kWh at detected location: Santiago, Santiago Metropolitan, CL.\n",
      "CarbonTracker: \n",
      "Actual consumption for 1 epoch(s):\n",
      "\tTime:\t0:00:45\n",
      "\tEnergy:\t0.011577595357 kWh\n",
      "\tCO2eq:\t4.335383752991 g\n",
      "\tThis is equivalent to:\n",
      "\t0.040329151191 km travelled by car\n",
      "CarbonTracker: \n",
      "Actual consumption for 1 epoch(s):\n",
      "\tTime:\t0:00:45\n",
      "\tEnergy:\t0.011577595357 kWh\n",
      "\tCO2eq:\t4.335383752991 g\n",
      "\tThis is equivalent to:\n",
      "\t0.040329151191 km travelled by car\n",
      "CarbonTracker: \n",
      "Actual consumption for 1 epoch(s):\n",
      "\tTime:\t0:00:45\n",
      "\tEnergy:\t0.011577595357 kWh\n",
      "\tCO2eq:\t4.335383752991 g\n",
      "\tThis is equivalent to:\n",
      "\t0.040329151191 km travelled by car\n",
      "CarbonTracker: \n",
      "Actual consumption for 1 epoch(s):\n",
      "\tTime:\t0:00:45\n",
      "\tEnergy:\t0.011577595357 kWh\n",
      "\tCO2eq:\t4.335383752991 g\n",
      "\tThis is equivalent to:\n",
      "\t0.040329151191 km travelled by car\n",
      "CarbonTracker: \n",
      "Actual consumption for 1 epoch(s):\n",
      "\tTime:\t0:00:45\n",
      "\tEnergy:\t0.011577595357 kWh\n",
      "\tCO2eq:\t4.335383752991 g\n",
      "\tThis is equivalent to:\n",
      "\t0.040329151191 km travelled by car\n",
      "CarbonTracker: WARNING - Failed to retrieve carbon intensity: Defaulting to average carbon intensity 374.46323 gCO2/kWh.\n",
      "CarbonTracker: WARNING - Failed to retrieve carbon intensity: Defaulting to average carbon intensity 374.46323 gCO2/kWh.\n",
      "CarbonTracker: WARNING - Failed to retrieve carbon intensity: Defaulting to average carbon intensity 374.46323 gCO2/kWh.\n",
      "CarbonTracker: WARNING - Failed to retrieve carbon intensity: Defaulting to average carbon intensity 374.46323 gCO2/kWh.\n",
      "CarbonTracker: WARNING - Failed to retrieve carbon intensity: Defaulting to average carbon intensity 374.46323 gCO2/kWh.\n",
      "CarbonTracker: Live carbon intensity could not be fetched at detected location: Santiago, Santiago Metropolitan, CL. Defaulted to average carbon intensity for CL in 2021 of 374.46 gCO2/kWh. at detected location: Santiago, Santiago Metropolitan, CL.\n",
      "CarbonTracker: Live carbon intensity could not be fetched at detected location: Santiago, Santiago Metropolitan, CL. Defaulted to average carbon intensity for CL in 2021 of 374.46 gCO2/kWh. at detected location: Santiago, Santiago Metropolitan, CL.\n",
      "CarbonTracker: Live carbon intensity could not be fetched at detected location: Santiago, Santiago Metropolitan, CL. Defaulted to average carbon intensity for CL in 2021 of 374.46 gCO2/kWh. at detected location: Santiago, Santiago Metropolitan, CL.\n",
      "CarbonTracker: Live carbon intensity could not be fetched at detected location: Santiago, Santiago Metropolitan, CL. Defaulted to average carbon intensity for CL in 2021 of 374.46 gCO2/kWh. at detected location: Santiago, Santiago Metropolitan, CL.\n",
      "CarbonTracker: Live carbon intensity could not be fetched at detected location: Santiago, Santiago Metropolitan, CL. Defaulted to average carbon intensity for CL in 2021 of 374.46 gCO2/kWh. at detected location: Santiago, Santiago Metropolitan, CL.\n",
      "CarbonTracker: \n",
      "Predicted consumption for 1 epoch(s):\n",
      "\tTime:\t0:00:45\n",
      "\tEnergy:\t0.011577595357 kWh\n",
      "\tCO2eq:\t4.335383752991 g\n",
      "\tThis is equivalent to:\n",
      "\t0.040329151191 km travelled by car\n",
      "CarbonTracker: \n",
      "Predicted consumption for 1 epoch(s):\n",
      "\tTime:\t0:00:45\n",
      "\tEnergy:\t0.011577595357 kWh\n",
      "\tCO2eq:\t4.335383752991 g\n",
      "\tThis is equivalent to:\n",
      "\t0.040329151191 km travelled by car\n",
      "CarbonTracker: \n",
      "Predicted consumption for 1 epoch(s):\n",
      "\tTime:\t0:00:45\n",
      "\tEnergy:\t0.011577595357 kWh\n",
      "\tCO2eq:\t4.335383752991 g\n",
      "\tThis is equivalent to:\n",
      "\t0.040329151191 km travelled by car\n",
      "CarbonTracker: \n",
      "Predicted consumption for 1 epoch(s):\n",
      "\tTime:\t0:00:45\n",
      "\tEnergy:\t0.011577595357 kWh\n",
      "\tCO2eq:\t4.335383752991 g\n",
      "\tThis is equivalent to:\n",
      "\t0.040329151191 km travelled by car\n",
      "CarbonTracker: \n",
      "Predicted consumption for 1 epoch(s):\n",
      "\tTime:\t0:00:45\n",
      "\tEnergy:\t0.011577595357 kWh\n",
      "\tCO2eq:\t4.335383752991 g\n",
      "\tThis is equivalent to:\n",
      "\t0.040329151191 km travelled by car\n",
      "CarbonTracker: Finished monitoring.\n",
      "CarbonTracker: Finished monitoring.\n",
      "CarbonTracker: Finished monitoring.\n",
      "CarbonTracker: Finished monitoring.\n",
      "CarbonTracker: Finished monitoring.\n",
      "Salida de STDOUT:                          Args                                         Values\n",
      "0                     n_items                                          40366\n",
      "1                      layers                                              1\n",
      "2                    rnn_size                                            192\n",
      "3                    n_epochs                                              5\n",
      "4               learning_rate                                            0.1\n",
      "5                 is_training                                              1\n",
      "6                  test_model                                              2\n",
      "7                  hidden_act                                           tanh\n",
      "8                   final_act                                        softmax\n",
      "9                        loss                                  cross-entropy\n",
      "10                 batch_size                                            128\n",
      "11                      decay                                            1.0\n",
      "12                decay_steps                                        10000.0\n",
      "13             checkpoint_dir  ../trained_models/gru4rec_tensorflow_minorfix\n",
      "14  initial_accumulator_value                                            0.0\n",
      "15           dropout_p_hidden                                           0.85\n",
      "fitting model...\n",
      "epoch:0 loss: 2.627677 8.41 s 73990.38 e/s 578.05 mb/s\n",
      "epoch:1 loss: 0.908934 8.07 s 77066.60 e/s 602.08 mb/s\n",
      "epoch:2 loss: 0.455707 8.24 s 75531.31 e/s 590.09 mb/s\n",
      "epoch:3 loss: 0.295297 8.06 s 77208.07 e/s 603.19 mb/s\n",
      "epoch:4 loss: 0.220576 8.03 s 77532.64 e/s 605.72 mb/s\n",
      "\n"
     ]
    },
    {
     "data": {
      "text/plain": [
       "0.0004673301362888544"
      ]
     },
     "execution_count": 35,
     "metadata": {},
     "output_type": "execute_result"
    }
   ],
   "source": [
    "track_training_C02_emissions(train_script_minor, \"gru4rec_tensorflow_minorfix\", \"diginetica\")"
   ]
  },
  {
   "attachments": {},
   "cell_type": "markdown",
   "metadata": {},
   "source": [
    "### Test the minor fix model"
   ]
  },
  {
   "cell_type": "code",
   "execution_count": 36,
   "metadata": {},
   "outputs": [
    {
     "name": "stdout",
     "output_type": "stream",
     "text": [
      "python ../GRU4Rec_TensorFlow/gru4rec_BP/main.py --train_path ../datasets/diginetica\\diginetica_processed_view_train_full.tsv --test_path ../datasets/diginetica\\diginetica_processed_view_test.tsv --checkpoint_dir ../trained_models/gru4rec_tensorflow_minorfix --layer 1 --size 192 --epoch 5 --lr 0.1 --hidden_act tanh --final_act softmax --loss cross-entropy --dropout 0.15 --batch_size 128 --initial_accumulator_value 1e-12 --decay 1.0 --train 0 --test 4 --m 1 5 10 20\n"
     ]
    },
    {
     "data": {
      "text/plain": [
       "0"
      ]
     },
     "execution_count": 36,
     "metadata": {},
     "output_type": "execute_result"
    }
   ],
   "source": [
    "print(test_script_minor)\n",
    "os.system(test_script_minor)"
   ]
  }
 ],
 "metadata": {
  "kernelspec": {
   "display_name": "Python 3",
   "language": "python",
   "name": "python3"
  },
  "language_info": {
   "codemirror_mode": {
    "name": "ipython",
    "version": 3
   },
   "file_extension": ".py",
   "mimetype": "text/x-python",
   "name": "python",
   "nbconvert_exporter": "python",
   "pygments_lexer": "ipython3",
   "version": "3.12.3"
  },
  "orig_nbformat": 4
 },
 "nbformat": 4,
 "nbformat_minor": 2
}

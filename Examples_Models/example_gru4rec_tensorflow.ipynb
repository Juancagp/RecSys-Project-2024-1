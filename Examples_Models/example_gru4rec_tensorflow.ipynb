{
 "cells": [
  {
   "cell_type": "code",
   "execution_count": 1,
   "metadata": {},
   "outputs": [],
   "source": [
    "import os\n",
    "from experiment_setup import setups"
   ]
  },
  {
   "cell_type": "code",
   "execution_count": 2,
   "metadata": {},
   "outputs": [],
   "source": [
    "# download the dataset, the links can be fund in the README\n",
    "dataset_path = \"../datasets/coveo_ecommerce\"\n",
    "model_path = \"../trained_models\""
   ]
  },
  {
   "attachments": {},
   "cell_type": "markdown",
   "metadata": {},
   "source": [
    "## Run the preprocess script, specific to the dataset you chose"
   ]
  },
  {
   "attachments": {},
   "cell_type": "markdown",
   "metadata": {},
   "source": [
    "- The preprocessing script in general, executes the following steps:\n",
    "    - Loads the raw data, with correct types\n",
    "    - Creates the sessions\n",
    "    - Removes duplicated items. An item is considered as a duplicate if the preceding (based on time) event in the same session contains the exact same item.\n",
    "    - Performes iterative support filtering\n",
    "        - Removes sessions with only one event\n",
    "        - Removes items with less than 5 events\n",
    "        - Until the size of the dataset changes\n"
   ]
  },
  {
   "cell_type": "code",
   "execution_count": 4,
   "metadata": {},
   "outputs": [
    {
     "name": "stdout",
     "output_type": "stream",
     "text": [
      "1566074 274797 11365\n",
      "1464757 173480 11344\n",
      "1463706 173480 10869\n",
      "1463649 173423 10869\n",
      "1463645 173423 10868\n",
      "1463645 173423 10868\n",
      "1463645 173423 10868\n"
     ]
    },
    {
     "name": "stderr",
     "output_type": "stream",
     "text": [
      "C:\\Users\\EVILAB\\Documents\\RecSys-Project-2024-1\\Preprocess\\coveo_preproc.py:177: DeprecationWarning: datetime.datetime.utcfromtimestamp() is deprecated and scheduled for removal in a future version. Use timezone-aware objects to represent datetimes in UTC: datetime.datetime.fromtimestamp(timestamp, datetime.UTC).\n",
      "  dt.datetime.utcfromtimestamp(data.Time.min() / 1000).strftime(\n",
      "C:\\Users\\EVILAB\\Documents\\RecSys-Project-2024-1\\Preprocess\\coveo_preproc.py:182: DeprecationWarning: datetime.datetime.utcfromtimestamp() is deprecated and scheduled for removal in a future version. Use timezone-aware objects to represent datetimes in UTC: datetime.datetime.fromtimestamp(timestamp, datetime.UTC).\n",
      "  dt.datetime.utcfromtimestamp(data.Time.max() / 1000).strftime(\n",
      "C:\\Users\\EVILAB\\Documents\\RecSys-Project-2024-1\\Preprocess\\coveo_preproc.py:177: DeprecationWarning: datetime.datetime.utcfromtimestamp() is deprecated and scheduled for removal in a future version. Use timezone-aware objects to represent datetimes in UTC: datetime.datetime.fromtimestamp(timestamp, datetime.UTC).\n",
      "  dt.datetime.utcfromtimestamp(data.Time.min() / 1000).strftime(\n",
      "C:\\Users\\EVILAB\\Documents\\RecSys-Project-2024-1\\Preprocess\\coveo_preproc.py:182: DeprecationWarning: datetime.datetime.utcfromtimestamp() is deprecated and scheduled for removal in a future version. Use timezone-aware objects to represent datetimes in UTC: datetime.datetime.fromtimestamp(timestamp, datetime.UTC).\n",
      "  dt.datetime.utcfromtimestamp(data.Time.max() / 1000).strftime(\n",
      "C:\\Users\\EVILAB\\Documents\\RecSys-Project-2024-1\\Preprocess\\coveo_preproc.py:177: DeprecationWarning: datetime.datetime.utcfromtimestamp() is deprecated and scheduled for removal in a future version. Use timezone-aware objects to represent datetimes in UTC: datetime.datetime.fromtimestamp(timestamp, datetime.UTC).\n",
      "  dt.datetime.utcfromtimestamp(data.Time.min() / 1000).strftime(\n",
      "C:\\Users\\EVILAB\\Documents\\RecSys-Project-2024-1\\Preprocess\\coveo_preproc.py:182: DeprecationWarning: datetime.datetime.utcfromtimestamp() is deprecated and scheduled for removal in a future version. Use timezone-aware objects to represent datetimes in UTC: datetime.datetime.fromtimestamp(timestamp, datetime.UTC).\n",
      "  dt.datetime.utcfromtimestamp(data.Time.max() / 1000).strftime(\n",
      "C:\\Users\\EVILAB\\Documents\\RecSys-Project-2024-1\\Preprocess\\coveo_preproc.py:177: DeprecationWarning: datetime.datetime.utcfromtimestamp() is deprecated and scheduled for removal in a future version. Use timezone-aware objects to represent datetimes in UTC: datetime.datetime.fromtimestamp(timestamp, datetime.UTC).\n",
      "  dt.datetime.utcfromtimestamp(data.Time.min() / 1000).strftime(\n",
      "C:\\Users\\EVILAB\\Documents\\RecSys-Project-2024-1\\Preprocess\\coveo_preproc.py:182: DeprecationWarning: datetime.datetime.utcfromtimestamp() is deprecated and scheduled for removal in a future version. Use timezone-aware objects to represent datetimes in UTC: datetime.datetime.fromtimestamp(timestamp, datetime.UTC).\n",
      "  dt.datetime.utcfromtimestamp(data.Time.max() / 1000).strftime(\n"
     ]
    },
    {
     "name": "stdout",
     "output_type": "stream",
     "text": [
      "                                             Dataset  NumEvents  NumSessions  \\\n",
      "0      coveo_ecommerce\\coveo_processed_view_full.tsv    1463645       173423   \n",
      "1      coveo_ecommerce\\coveo_processed_view_test.tsv      52501         7748   \n",
      "2  coveo_ecommerce\\coveo_processed_view_train_ful...    1411113       165673   \n",
      "3  coveo_ecommerce\\coveo_processed_view_train_tr.tsv    1368003       159766   \n",
      "4  coveo_ecommerce\\coveo_processed_view_train_val...      43032         5905   \n",
      "\n",
      "   NumItems    NumDays                   StartTime  \\\n",
      "0     10868  17.999833  2018-12-08 00:00:11.994000   \n",
      "1      8230   0.998696  2018-12-25 00:01:50.223000   \n",
      "2     10868  16.999566  2018-12-08 00:00:11.994000   \n",
      "3     10868  15.999713  2018-12-08 00:00:11.994000   \n",
      "4      8014   0.997503  2018-12-24 00:03:10.240000   \n",
      "\n",
      "                      EndTime  AvgItemViews  MinSessionLength  \\\n",
      "0  2018-12-25 23:59:57.577000    134.674733                 2   \n",
      "1  2018-12-25 23:59:57.577000      6.379222                 2   \n",
      "2  2018-12-24 23:59:34.483000    129.841093                 2   \n",
      "3  2018-12-23 23:59:47.187000    125.874402                 2   \n",
      "4  2018-12-24 23:59:34.483000      5.369603                 2   \n",
      "\n",
      "   MaxSessionLength  AvgSessionLength  MinSessionTime (sec)  \\\n",
      "0               454          8.439740                 0.001   \n",
      "1               146          6.776071                 0.001   \n",
      "2               454          8.517459                 0.001   \n",
      "3               454          8.562541                 0.001   \n",
      "4               134          7.287384                 0.004   \n",
      "\n",
      "   MaxSessionTime (sec)  \n",
      "0             59683.003  \n",
      "1             12440.338  \n",
      "2             59683.003  \n",
      "3             59683.003  \n",
      "4             11941.152  \n"
     ]
    },
    {
     "name": "stderr",
     "output_type": "stream",
     "text": [
      "C:\\Users\\EVILAB\\Documents\\RecSys-Project-2024-1\\Preprocess\\coveo_preproc.py:177: DeprecationWarning: datetime.datetime.utcfromtimestamp() is deprecated and scheduled for removal in a future version. Use timezone-aware objects to represent datetimes in UTC: datetime.datetime.fromtimestamp(timestamp, datetime.UTC).\n",
      "  dt.datetime.utcfromtimestamp(data.Time.min() / 1000).strftime(\n",
      "C:\\Users\\EVILAB\\Documents\\RecSys-Project-2024-1\\Preprocess\\coveo_preproc.py:182: DeprecationWarning: datetime.datetime.utcfromtimestamp() is deprecated and scheduled for removal in a future version. Use timezone-aware objects to represent datetimes in UTC: datetime.datetime.fromtimestamp(timestamp, datetime.UTC).\n",
      "  dt.datetime.utcfromtimestamp(data.Time.max() / 1000).strftime(\n"
     ]
    }
   ],
   "source": [
    "%run ../Preprocess/coveo_preproc.py --path $dataset_path"
   ]
  },
  {
   "attachments": {},
   "cell_type": "markdown",
   "metadata": {},
   "source": [
    "## Use a specific setup for your dataset"
   ]
  },
  {
   "cell_type": "code",
   "execution_count": 3,
   "metadata": {},
   "outputs": [],
   "source": [
    "params = setups[\"coveo\"][\"params_xe\"]"
   ]
  },
  {
   "cell_type": "code",
   "execution_count": 4,
   "metadata": {},
   "outputs": [],
   "source": [
    "train_path = os.path.join(dataset_path,\"coveo_processed_view_train_full.tsv\")\n",
    "test_path = os.path.join(dataset_path,\"coveo_processed_view_test.tsv\")"
   ]
  },
  {
   "cell_type": "code",
   "execution_count": 5,
   "metadata": {},
   "outputs": [],
   "source": [
    "def create_gru4rec_tensorflow_script(model_name, train_path, test_path, model_path, loss, final_act, layers, batch_size, dropout_p_hidden, learning_rate, hidden_act, n_epochs, m, decay, initial_accumulator):\n",
    "        \"\"\"Creates the train and test script.\n",
    "        \"\"\"\n",
    "        s_train_full = (\n",
    "                f\"python ../GRU4Rec_TensorFlow/gru4rec_BP/main.py --train_path {train_path} \"\n",
    "                f\"--test_path {test_path} --checkpoint_dir {model_path}/{model_name} --layer {1} --size {layers} \"\n",
    "                f\"--epoch {n_epochs} --lr {learning_rate} --hidden_act {hidden_act} --final_act {final_act} \"\n",
    "                f\"--loss {loss} --dropout {dropout_p_hidden} --batch_size {batch_size} \"\n",
    "                f\"--initial_accumulator_value {initial_accumulator} --decay {decay}\"\n",
    "        )\n",
    "        s_test_full = s_train_full + f\" --train 0 --test {n_epochs-1} --m {m}\"\n",
    "        return s_train_full, s_test_full"
   ]
  },
  {
   "cell_type": "code",
   "execution_count": 6,
   "metadata": {},
   "outputs": [],
   "source": [
    "loss = params[\"loss\"]\n",
    "optim = params[\"optim\"]\n",
    "const_emb = params[\"constrained_embedding\"]\n",
    "embed = params[\"embedding\"]\n",
    "final_act = params[\"final_act\"]\n",
    "layers = params[\"layers\"]\n",
    "batch_size = params[\"batch_size\"]\n",
    "dropout_p_embed = params[\"dropout_p_embed\"]\n",
    "dropout_p_hidden = params[\"dropout_p_hidden\"]\n",
    "learning_rate = params[\"learning_rate\"]\n",
    "momentum = params[\"momentum\"]\n",
    "sample_alpha = params[\"sample_alpha\"]\n",
    "bpreg = params[\"bpreg\"]\n",
    "logq = params[\"logq\"]\n",
    "hidden_act = params[\"hidden_act\"]\n",
    "n_epochs = 5\n",
    "m = '1 5 10 20'"
   ]
  },
  {
   "attachments": {},
   "cell_type": "markdown",
   "metadata": {},
   "source": [
    "## Train & test the out-of-the-box model"
   ]
  },
  {
   "cell_type": "code",
   "execution_count": 7,
   "metadata": {},
   "outputs": [],
   "source": [
    "train_script_oob, test_script_oob = create_gru4rec_tensorflow_script(model_name=\"gru4rec_tensorflow_oob\", train_path=train_path, test_path=test_path, model_path=model_path, loss=loss, final_act=final_act, layers=layers, batch_size=50, dropout_p_hidden=dropout_p_hidden, learning_rate=learning_rate, hidden_act=hidden_act, n_epochs=n_epochs, m=m, decay=0.96, initial_accumulator=1e-1)"
   ]
  },
  {
   "cell_type": "markdown",
   "metadata": {},
   "source": [
    "### Train the out-of-the-box model"
   ]
  },
  {
   "cell_type": "code",
   "execution_count": 8,
   "metadata": {},
   "outputs": [
    {
     "name": "stderr",
     "output_type": "stream",
     "text": [
      "[codecarbon WARNING @ 18:13:36] Invalid gpu_ids format. Expected a string or a list of ints.\n",
      "[codecarbon INFO @ 18:13:36] [setup] RAM Tracking...\n",
      "[codecarbon INFO @ 18:13:36] [setup] GPU Tracking...\n",
      "[codecarbon INFO @ 18:13:37] Tracking Nvidia GPU via pynvml\n",
      "[codecarbon INFO @ 18:13:37] [setup] CPU Tracking...\n",
      "[codecarbon WARNING @ 18:13:37] No CPU tracking mode found. Falling back on CPU constant mode.\n",
      "[codecarbon WARNING @ 18:13:39] We saw that you have a 13th Gen Intel(R) Core(TM) i9-13900HX but we don't know it. Please contact us.\n",
      "[codecarbon INFO @ 18:13:39] CPU Model on constant consumption mode: 13th Gen Intel(R) Core(TM) i9-13900HX\n",
      "[codecarbon INFO @ 18:13:40] >>> Tracker's metadata:\n",
      "[codecarbon INFO @ 18:13:40]   Platform system: Windows-11-10.0.22631-SP0\n",
      "[codecarbon INFO @ 18:13:40]   Python version: 3.12.3\n",
      "[codecarbon INFO @ 18:13:40]   CodeCarbon version: 2.4.2\n",
      "[codecarbon INFO @ 18:13:40]   Available RAM : 31.746 GB\n",
      "[codecarbon INFO @ 18:13:40]   CPU count: 32\n",
      "[codecarbon INFO @ 18:13:40]   CPU model: 13th Gen Intel(R) Core(TM) i9-13900HX\n",
      "[codecarbon INFO @ 18:13:40]   GPU count: 1\n",
      "[codecarbon INFO @ 18:13:40]   GPU model: 1 x NVIDIA GeForce RTX 4090 Laptop GPU\n"
     ]
    },
    {
     "name": "stdout",
     "output_type": "stream",
     "text": [
      "CarbonTracker: The following components were found: GPU with device(s) NVIDIA GeForce RTX 4090 Laptop GPU.\n",
      "The training of models in this work is estimated to use 0.000 kWh of electricity contributing to 0.000 kg of CO2eq. Measured by carbontracker (https://github.com/lfwa/carbontracker).\n",
      "CarbonTracker: WARNING - Failed to retrieve carbon intensity: Defaulting to average carbon intensity 374.46323 gCO2/kWh.\n"
     ]
    },
    {
     "name": "stderr",
     "output_type": "stream",
     "text": [
      "[codecarbon INFO @ 18:13:58] Energy consumed for RAM : 0.000050 kWh. RAM Power : 11.904736518859863 W\n",
      "[codecarbon INFO @ 18:13:58] Energy consumed for all GPUs : 0.000103 kWh. Total GPU Power : 24.584543573911386 W\n",
      "[codecarbon INFO @ 18:13:58] Energy consumed for all CPUs : 0.000177 kWh. Total CPU Power : 42.5 W\n",
      "[codecarbon INFO @ 18:13:58] 0.000329 kWh of electricity used since the beginning.\n",
      "[codecarbon INFO @ 18:14:13] Energy consumed for RAM : 0.000099 kWh. RAM Power : 11.904736518859863 W\n",
      "[codecarbon INFO @ 18:14:14] Energy consumed for all GPUs : 0.000164 kWh. Total GPU Power : 14.768583193100739 W\n",
      "[codecarbon INFO @ 18:14:14] Energy consumed for all CPUs : 0.000360 kWh. Total CPU Power : 42.5 W\n",
      "[codecarbon INFO @ 18:14:14] 0.000623 kWh of electricity used since the beginning.\n",
      "[codecarbon INFO @ 18:14:28] Energy consumed for RAM : 0.000147 kWh. RAM Power : 11.904736518859863 W\n",
      "[codecarbon INFO @ 18:14:28] Energy consumed for all GPUs : 0.000218 kWh. Total GPU Power : 13.339880338791538 W\n",
      "[codecarbon INFO @ 18:14:28] Energy consumed for all CPUs : 0.000533 kWh. Total CPU Power : 42.5 W\n",
      "[codecarbon INFO @ 18:14:28] 0.000898 kWh of electricity used since the beginning.\n",
      "[codecarbon INFO @ 18:14:43] Energy consumed for RAM : 0.000196 kWh. RAM Power : 11.904736518859863 W\n",
      "[codecarbon INFO @ 18:14:44] Energy consumed for all GPUs : 0.000251 kWh. Total GPU Power : 7.962953815721971 W\n",
      "[codecarbon INFO @ 18:14:44] Energy consumed for all CPUs : 0.000716 kWh. Total CPU Power : 42.5 W\n",
      "[codecarbon INFO @ 18:14:44] 0.001163 kWh of electricity used since the beginning.\n",
      "[codecarbon INFO @ 18:14:58] Energy consumed for RAM : 0.000244 kWh. RAM Power : 11.904736518859863 W\n",
      "[codecarbon INFO @ 18:14:59] Energy consumed for all GPUs : 0.000282 kWh. Total GPU Power : 7.792578295072519 W\n",
      "[codecarbon INFO @ 18:14:59] Energy consumed for all CPUs : 0.000892 kWh. Total CPU Power : 42.5 W\n",
      "[codecarbon INFO @ 18:14:59] 0.001418 kWh of electricity used since the beginning.\n",
      "[codecarbon INFO @ 18:15:13] Energy consumed for RAM : 0.000292 kWh. RAM Power : 11.904736518859863 W\n",
      "[codecarbon INFO @ 18:15:14] Energy consumed for all GPUs : 0.000303 kWh. Total GPU Power : 5.279712456199937 W\n",
      "[codecarbon INFO @ 18:15:14] Energy consumed for all CPUs : 0.001069 kWh. Total CPU Power : 42.5 W\n",
      "[codecarbon INFO @ 18:15:14] 0.001665 kWh of electricity used since the beginning.\n",
      "[codecarbon INFO @ 18:15:28] Energy consumed for RAM : 0.000340 kWh. RAM Power : 11.904736518859863 W\n",
      "[codecarbon INFO @ 18:15:29] Energy consumed for all GPUs : 0.000363 kWh. Total GPU Power : 14.92408612254325 W\n",
      "[codecarbon INFO @ 18:15:29] Energy consumed for all CPUs : 0.001248 kWh. Total CPU Power : 42.5 W\n",
      "[codecarbon INFO @ 18:15:29] 0.001951 kWh of electricity used since the beginning.\n",
      "[codecarbon INFO @ 18:15:43] Energy consumed for RAM : 0.000387 kWh. RAM Power : 11.904736518859863 W\n",
      "[codecarbon INFO @ 18:15:44] Energy consumed for all GPUs : 0.000405 kWh. Total GPU Power : 10.530031953274596 W\n",
      "[codecarbon INFO @ 18:15:44] Energy consumed for all CPUs : 0.001424 kWh. Total CPU Power : 42.5 W\n",
      "[codecarbon INFO @ 18:15:44] 0.002216 kWh of electricity used since the beginning.\n",
      "[codecarbon INFO @ 18:15:58] Energy consumed for RAM : 0.000435 kWh. RAM Power : 11.904736518859863 W\n",
      "[codecarbon INFO @ 18:15:58] Energy consumed for all GPUs : 0.000500 kWh. Total GPU Power : 23.671211009726505 W\n",
      "[codecarbon INFO @ 18:15:58] Energy consumed for all CPUs : 0.001594 kWh. Total CPU Power : 42.5 W\n",
      "[codecarbon INFO @ 18:15:58] 0.002529 kWh of electricity used since the beginning.\n",
      "[codecarbon INFO @ 18:16:13] Energy consumed for RAM : 0.000484 kWh. RAM Power : 11.904736518859863 W\n",
      "[codecarbon INFO @ 18:16:14] Energy consumed for all GPUs : 0.000578 kWh. Total GPU Power : 18.812952203081938 W\n",
      "[codecarbon INFO @ 18:16:14] Energy consumed for all CPUs : 0.001776 kWh. Total CPU Power : 42.5 W\n",
      "[codecarbon INFO @ 18:16:14] 0.002839 kWh of electricity used since the beginning.\n",
      "[codecarbon INFO @ 18:16:28] Energy consumed for RAM : 0.000532 kWh. RAM Power : 11.904736518859863 W\n",
      "[codecarbon INFO @ 18:16:29] Energy consumed for all GPUs : 0.000601 kWh. Total GPU Power : 5.474142637671892 W\n",
      "[codecarbon INFO @ 18:16:29] Energy consumed for all CPUs : 0.001954 kWh. Total CPU Power : 42.5 W\n",
      "[codecarbon INFO @ 18:16:29] 0.003087 kWh of electricity used since the beginning.\n",
      "[codecarbon INFO @ 18:16:43] Energy consumed for RAM : 0.000581 kWh. RAM Power : 11.904736518859863 W\n",
      "[codecarbon INFO @ 18:16:43] Energy consumed for all GPUs : 0.000637 kWh. Total GPU Power : 8.920770649087961 W\n",
      "[codecarbon INFO @ 18:16:43] Energy consumed for all CPUs : 0.002127 kWh. Total CPU Power : 42.5 W\n",
      "[codecarbon INFO @ 18:16:43] 0.003345 kWh of electricity used since the beginning.\n",
      "[codecarbon INFO @ 18:16:58] Energy consumed for RAM : 0.000630 kWh. RAM Power : 11.904736518859863 W\n",
      "[codecarbon INFO @ 18:16:59] Energy consumed for all GPUs : 0.000679 kWh. Total GPU Power : 10.201473391935625 W\n",
      "[codecarbon INFO @ 18:16:59] Energy consumed for all CPUs : 0.002308 kWh. Total CPU Power : 42.5 W\n",
      "[codecarbon INFO @ 18:16:59] 0.003617 kWh of electricity used since the beginning.\n",
      "[codecarbon INFO @ 18:17:13] Energy consumed for RAM : 0.000678 kWh. RAM Power : 11.904736518859863 W\n",
      "[codecarbon INFO @ 18:17:13] Energy consumed for all GPUs : 0.000712 kWh. Total GPU Power : 8.12352475078685 W\n",
      "[codecarbon INFO @ 18:17:13] Energy consumed for all CPUs : 0.002480 kWh. Total CPU Power : 42.5 W\n",
      "[codecarbon INFO @ 18:17:13] 0.003870 kWh of electricity used since the beginning.\n",
      "[codecarbon INFO @ 18:17:28] Energy consumed for RAM : 0.000727 kWh. RAM Power : 11.904736518859863 W\n",
      "[codecarbon INFO @ 18:17:29] Energy consumed for all GPUs : 0.000782 kWh. Total GPU Power : 16.951426985579303 W\n",
      "[codecarbon INFO @ 18:17:29] Energy consumed for all CPUs : 0.002663 kWh. Total CPU Power : 42.5 W\n",
      "[codecarbon INFO @ 18:17:29] 0.004173 kWh of electricity used since the beginning.\n",
      "[codecarbon INFO @ 18:17:43] Energy consumed for RAM : 0.000775 kWh. RAM Power : 11.904736518859863 W\n",
      "[codecarbon INFO @ 18:17:44] Energy consumed for all GPUs : 0.000833 kWh. Total GPU Power : 12.539006685211811 W\n",
      "[codecarbon INFO @ 18:17:44] Energy consumed for all CPUs : 0.002839 kWh. Total CPU Power : 42.5 W\n",
      "[codecarbon INFO @ 18:17:44] 0.004447 kWh of electricity used since the beginning.\n",
      "[codecarbon INFO @ 18:17:58] Energy consumed for RAM : 0.000824 kWh. RAM Power : 11.904736518859863 W\n",
      "[codecarbon INFO @ 18:17:59] Energy consumed for all GPUs : 0.000850 kWh. Total GPU Power : 4.320486551293112 W\n",
      "[codecarbon INFO @ 18:17:59] Energy consumed for all CPUs : 0.003017 kWh. Total CPU Power : 42.5 W\n",
      "[codecarbon INFO @ 18:17:59] 0.004690 kWh of electricity used since the beginning.\n",
      "[codecarbon INFO @ 18:18:13] Energy consumed for RAM : 0.000872 kWh. RAM Power : 11.904736518859863 W\n",
      "[codecarbon INFO @ 18:18:14] Energy consumed for all GPUs : 0.000883 kWh. Total GPU Power : 8.210112880337352 W\n",
      "[codecarbon INFO @ 18:18:14] Energy consumed for all CPUs : 0.003194 kWh. Total CPU Power : 42.5 W\n",
      "[codecarbon INFO @ 18:18:14] 0.004949 kWh of electricity used since the beginning.\n",
      "[codecarbon INFO @ 18:18:28] Energy consumed for RAM : 0.000920 kWh. RAM Power : 11.904736518859863 W\n",
      "[codecarbon INFO @ 18:18:29] Energy consumed for all GPUs : 0.000903 kWh. Total GPU Power : 4.773835224323599 W\n",
      "[codecarbon INFO @ 18:18:29] Energy consumed for all CPUs : 0.003371 kWh. Total CPU Power : 42.5 W\n",
      "[codecarbon INFO @ 18:18:29] 0.005193 kWh of electricity used since the beginning.\n",
      "[codecarbon INFO @ 18:18:43] Energy consumed for RAM : 0.000968 kWh. RAM Power : 11.904736518859863 W\n",
      "[codecarbon INFO @ 18:18:44] Energy consumed for all GPUs : 0.000928 kWh. Total GPU Power : 6.262072533662605 W\n",
      "[codecarbon INFO @ 18:18:44] Energy consumed for all CPUs : 0.003548 kWh. Total CPU Power : 42.5 W\n",
      "[codecarbon INFO @ 18:18:44] 0.005444 kWh of electricity used since the beginning.\n",
      "[codecarbon INFO @ 18:18:58] Energy consumed for RAM : 0.001016 kWh. RAM Power : 11.904736518859863 W\n",
      "[codecarbon INFO @ 18:18:59] Energy consumed for all GPUs : 0.000968 kWh. Total GPU Power : 9.7957294213935 W\n",
      "[codecarbon INFO @ 18:18:59] Energy consumed for all CPUs : 0.003725 kWh. Total CPU Power : 42.5 W\n",
      "[codecarbon INFO @ 18:18:59] 0.005709 kWh of electricity used since the beginning.\n",
      "[codecarbon INFO @ 18:19:13] Energy consumed for RAM : 0.001064 kWh. RAM Power : 11.904736518859863 W\n",
      "[codecarbon INFO @ 18:19:14] Energy consumed for all GPUs : 0.001006 kWh. Total GPU Power : 9.564772193548636 W\n",
      "[codecarbon INFO @ 18:19:14] Energy consumed for all CPUs : 0.003902 kWh. Total CPU Power : 42.5 W\n",
      "[codecarbon INFO @ 18:19:14] 0.005973 kWh of electricity used since the beginning.\n",
      "[codecarbon INFO @ 18:19:28] Energy consumed for RAM : 0.001112 kWh. RAM Power : 11.904736518859863 W\n",
      "[codecarbon INFO @ 18:19:29] Energy consumed for all GPUs : 0.001196 kWh. Total GPU Power : 46.85095375631451 W\n",
      "[codecarbon INFO @ 18:19:29] Energy consumed for all CPUs : 0.004079 kWh. Total CPU Power : 42.5 W\n",
      "[codecarbon INFO @ 18:19:29] 0.006387 kWh of electricity used since the beginning.\n",
      "[codecarbon INFO @ 18:19:43] Energy consumed for RAM : 0.001161 kWh. RAM Power : 11.904736518859863 W\n",
      "[codecarbon INFO @ 18:19:44] Energy consumed for all GPUs : 0.001266 kWh. Total GPU Power : 17.4054808944648 W\n",
      "[codecarbon INFO @ 18:19:44] Energy consumed for all CPUs : 0.004256 kWh. Total CPU Power : 42.5 W\n",
      "[codecarbon INFO @ 18:19:44] 0.006683 kWh of electricity used since the beginning.\n",
      "[codecarbon INFO @ 18:19:58] Energy consumed for RAM : 0.001209 kWh. RAM Power : 11.904736518859863 W\n",
      "[codecarbon INFO @ 18:19:58] Energy consumed for all GPUs : 0.001293 kWh. Total GPU Power : 6.605891811199797 W\n",
      "[codecarbon INFO @ 18:19:58] Energy consumed for all CPUs : 0.004428 kWh. Total CPU Power : 42.5 W\n",
      "[codecarbon INFO @ 18:19:58] 0.006930 kWh of electricity used since the beginning.\n",
      "[codecarbon INFO @ 18:20:13] Energy consumed for RAM : 0.001258 kWh. RAM Power : 11.904736518859863 W\n",
      "[codecarbon INFO @ 18:20:14] Energy consumed for all GPUs : 0.001332 kWh. Total GPU Power : 9.356537362899015 W\n",
      "[codecarbon INFO @ 18:20:14] Energy consumed for all CPUs : 0.004611 kWh. Total CPU Power : 42.5 W\n",
      "[codecarbon INFO @ 18:20:14] 0.007201 kWh of electricity used since the beginning.\n",
      "[codecarbon INFO @ 18:20:28] Energy consumed for RAM : 0.001307 kWh. RAM Power : 11.904736518859863 W\n",
      "[codecarbon INFO @ 18:20:29] Energy consumed for all GPUs : 0.001354 kWh. Total GPU Power : 5.459432184303703 W\n",
      "[codecarbon INFO @ 18:20:29] Energy consumed for all CPUs : 0.004788 kWh. Total CPU Power : 42.5 W\n",
      "[codecarbon INFO @ 18:20:29] 0.007448 kWh of electricity used since the beginning.\n",
      "[codecarbon INFO @ 18:20:43] Energy consumed for RAM : 0.001355 kWh. RAM Power : 11.904736518859863 W\n",
      "[codecarbon INFO @ 18:20:44] Energy consumed for all GPUs : 0.001392 kWh. Total GPU Power : 9.440695850981506 W\n",
      "[codecarbon INFO @ 18:20:44] Energy consumed for all CPUs : 0.004965 kWh. Total CPU Power : 42.5 W\n",
      "[codecarbon INFO @ 18:20:44] 0.007712 kWh of electricity used since the beginning.\n",
      "[codecarbon INFO @ 18:20:48] Energy consumed for RAM : 0.001370 kWh. RAM Power : 11.904736518859863 W\n",
      "[codecarbon INFO @ 18:20:49] Energy consumed for all GPUs : 0.001407 kWh. Total GPU Power : 11.23935620530171 W\n",
      "[codecarbon INFO @ 18:20:49] Energy consumed for all CPUs : 0.005024 kWh. Total CPU Power : 42.5 W\n",
      "[codecarbon INFO @ 18:20:49] 0.007801 kWh of electricity used since the beginning.\n"
     ]
    },
    {
     "name": "stdout",
     "output_type": "stream",
     "text": [
      "CarbonTracker: WARNING - Failed to retrieve carbon intensity: Defaulting to average carbon intensity 374.46323 gCO2/kWh.\n",
      "CarbonTracker: Average carbon intensity during training was 374.46 gCO2/kWh at detected location: Santiago, Santiago Metropolitan, CL.\n",
      "CarbonTracker: \n",
      "Actual consumption for 1 epoch(s):\n",
      "\tTime:\t0:07:06\n",
      "\tEnergy:\t0.058889227016 kWh\n",
      "\tCO2eq:\t22.051850160622 g\n",
      "\tThis is equivalent to:\n",
      "\t0.205133489866 km travelled by car\n",
      "CarbonTracker: WARNING - Failed to retrieve carbon intensity: Defaulting to average carbon intensity 374.46323 gCO2/kWh.\n",
      "CarbonTracker: Live carbon intensity could not be fetched at detected location: Santiago, Santiago Metropolitan, CL. Defaulted to average carbon intensity for CL in 2021 of 374.46 gCO2/kWh. at detected location: Santiago, Santiago Metropolitan, CL.\n",
      "CarbonTracker: \n",
      "Predicted consumption for 1 epoch(s):\n",
      "\tTime:\t0:07:06\n",
      "\tEnergy:\t0.058889227016 kWh\n",
      "\tCO2eq:\t22.051850160622 g\n",
      "\tThis is equivalent to:\n",
      "\t0.205133489866 km travelled by car\n",
      "CarbonTracker: Finished monitoring.\n",
      "Salida de STDOUT:                          Args                                    Values\n",
      "0                     n_items                                     10868\n",
      "1                      layers                                         1\n",
      "2                    rnn_size                                       512\n",
      "3                    n_epochs                                         5\n",
      "4               learning_rate                                      0.03\n",
      "5                 is_training                                         1\n",
      "6                  test_model                                         2\n",
      "7                  hidden_act                                      tanh\n",
      "8                   final_act                                   softmax\n",
      "9                        loss                             cross-entropy\n",
      "10                 batch_size                                        50\n",
      "11                      decay                                      0.96\n",
      "12                decay_steps                                   10000.0\n",
      "13             checkpoint_dir  ../trained_models/gru4rec_tensorflow_oob\n",
      "14  initial_accumulator_value                                       0.1\n",
      "15           dropout_p_hidden                                      0.85\n",
      "fitting model...\n",
      "epoch:0 loss: 3.911923 150.92 s 8247.81 e/s 164.96 mb/s\n",
      "epoch:1 loss: 3.911486 64.32 s 19352.89 e/s 387.06 mb/s\n",
      "epoch:2 loss: 3.906742 65.58 s 18981.82 e/s 379.64 mb/s\n",
      "epoch:3 loss: 3.816666 65.30 s 19063.76 e/s 381.28 mb/s\n",
      "epoch:4 loss: 3.665607 66.48 s 18724.32 e/s 374.49 mb/s\n",
      "\n"
     ]
    },
    {
     "data": {
      "text/plain": [
       "0.002594780853018689"
      ]
     },
     "execution_count": 8,
     "metadata": {},
     "output_type": "execute_result"
    }
   ],
   "source": [
    "from model_tracker import track_training_C02_emissions\n",
    "\n",
    "track_training_C02_emissions(train_script_oob, \"gru4rec_tensorflow_oob\", \"coveo\")"
   ]
  },
  {
   "attachments": {},
   "cell_type": "markdown",
   "metadata": {},
   "source": [
    "### Test the out-of-the-box model"
   ]
  },
  {
   "cell_type": "code",
   "execution_count": 11,
   "metadata": {},
   "outputs": [
    {
     "name": "stdout",
     "output_type": "stream",
     "text": [
      "0\n"
     ]
    }
   ],
   "source": [
    "os.system(test_script_oob)"
   ]
  },
  {
   "attachments": {},
   "cell_type": "markdown",
   "metadata": {},
   "source": [
    "## Train & test the minor fix model\n"
   ]
  },
  {
   "cell_type": "code",
   "execution_count": 12,
   "metadata": {},
   "outputs": [],
   "source": [
    "train_script_minor, test_script_minor = create_gru4rec_tensorflow_script(model_name='gru4rec_tensorflow_minorfix', train_path=train_path, test_path=test_path, model_path=model_path, loss=loss, final_act=final_act, layers=layers, batch_size=batch_size, dropout_p_hidden=dropout_p_hidden, learning_rate=learning_rate, hidden_act=hidden_act, n_epochs=n_epochs, m=m, decay=1.0, initial_accumulator=1e-12)"
   ]
  },
  {
   "cell_type": "code",
   "execution_count": 15,
   "metadata": {},
   "outputs": [
    {
     "name": "stdout",
     "output_type": "stream",
     "text": [
      "python ../GRU4Rec_TensorFlow/gru4rec_BP/main.py --train_path ../datasets/coveo_ecommerce\\coveo_processed_view_train_full.tsv --test_path ../datasets/coveo_ecommerce\\coveo_processed_view_test.tsv --checkpoint_dir ../trained_models/gru4rec_tensorflow_minorfix --layer 1 --size 512 --epoch 5 --lr 0.03 --hidden_act tanh --final_act softmax --loss cross-entropy --dropout 0.15 --batch_size 32 --initial_accumulator_value 1e-12 --decay 1.0 --train 0 --test 4 --m 1 5 10 20\n"
     ]
    }
   ],
   "source": [
    "print(test_script_minor)"
   ]
  },
  {
   "attachments": {},
   "cell_type": "markdown",
   "metadata": {},
   "source": [
    "### Train the minor fix model"
   ]
  },
  {
   "cell_type": "code",
   "execution_count": 13,
   "metadata": {},
   "outputs": [
    {
     "name": "stderr",
     "output_type": "stream",
     "text": [
      "[codecarbon WARNING @ 18:32:47] Invalid gpu_ids format. Expected a string or a list of ints.\n",
      "[codecarbon INFO @ 18:32:47] [setup] RAM Tracking...\n",
      "[codecarbon INFO @ 18:32:47] [setup] GPU Tracking...\n",
      "[codecarbon INFO @ 18:32:47] Tracking Nvidia GPU via pynvml\n",
      "[codecarbon INFO @ 18:32:48] [setup] CPU Tracking...\n",
      "[codecarbon WARNING @ 18:32:48] No CPU tracking mode found. Falling back on CPU constant mode.\n",
      "[codecarbon WARNING @ 18:32:50] We saw that you have a 13th Gen Intel(R) Core(TM) i9-13900HX but we don't know it. Please contact us.\n",
      "[codecarbon INFO @ 18:32:50] CPU Model on constant consumption mode: 13th Gen Intel(R) Core(TM) i9-13900HX\n",
      "[codecarbon INFO @ 18:32:50] >>> Tracker's metadata:\n",
      "[codecarbon INFO @ 18:32:50]   Platform system: Windows-11-10.0.22631-SP0\n",
      "[codecarbon INFO @ 18:32:50]   Python version: 3.12.3\n",
      "[codecarbon INFO @ 18:32:50]   CodeCarbon version: 2.4.2\n",
      "[codecarbon INFO @ 18:32:50]   Available RAM : 31.746 GB\n",
      "[codecarbon INFO @ 18:32:50]   CPU count: 32\n",
      "[codecarbon INFO @ 18:32:50]   CPU model: 13th Gen Intel(R) Core(TM) i9-13900HX\n",
      "[codecarbon INFO @ 18:32:50]   GPU count: 1\n",
      "[codecarbon INFO @ 18:32:50]   GPU model: 1 x NVIDIA GeForce RTX 4090 Laptop GPU\n"
     ]
    },
    {
     "name": "stdout",
     "output_type": "stream",
     "text": [
      "CarbonTracker: The following components were found: GPU with device(s) NVIDIA GeForce RTX 4090 Laptop GPU.\n",
      "CarbonTracker: The following components were found: GPU with device(s) NVIDIA GeForce RTX 4090 Laptop GPU.\n",
      "The training of models in this work is estimated to use 0.000 kWh of electricity contributing to 0.000 kg of CO2eq. Measured by carbontracker (https://github.com/lfwa/carbontracker).\n",
      "CarbonTracker: WARNING - Failed to retrieve carbon intensity: Defaulting to average carbon intensity 374.46323 gCO2/kWh.\n",
      "CarbonTracker: WARNING - Failed to retrieve carbon intensity: Defaulting to average carbon intensity 374.46323 gCO2/kWh.\n"
     ]
    },
    {
     "name": "stderr",
     "output_type": "stream",
     "text": [
      "[codecarbon INFO @ 18:33:09] Energy consumed for RAM : 0.000051 kWh. RAM Power : 11.904736518859863 W\n",
      "[codecarbon INFO @ 18:33:09] Energy consumed for all GPUs : 0.000043 kWh. Total GPU Power : 9.992181239419622 W\n",
      "[codecarbon INFO @ 18:33:09] Energy consumed for all CPUs : 0.000187 kWh. Total CPU Power : 42.5 W\n",
      "[codecarbon INFO @ 18:33:09] 0.000281 kWh of electricity used since the beginning.\n",
      "[codecarbon INFO @ 18:33:24] Energy consumed for RAM : 0.000099 kWh. RAM Power : 11.904736518859863 W\n",
      "[codecarbon INFO @ 18:33:24] Energy consumed for all GPUs : 0.000071 kWh. Total GPU Power : 6.953635775127584 W\n",
      "[codecarbon INFO @ 18:33:24] Energy consumed for all CPUs : 0.000364 kWh. Total CPU Power : 42.5 W\n",
      "[codecarbon INFO @ 18:33:24] 0.000534 kWh of electricity used since the beginning.\n",
      "[codecarbon INFO @ 18:33:39] Energy consumed for RAM : 0.000147 kWh. RAM Power : 11.904736518859863 W\n",
      "[codecarbon INFO @ 18:33:39] Energy consumed for all GPUs : 0.000108 kWh. Total GPU Power : 9.196471982601965 W\n",
      "[codecarbon INFO @ 18:33:39] Energy consumed for all CPUs : 0.000541 kWh. Total CPU Power : 42.5 W\n",
      "[codecarbon INFO @ 18:33:39] 0.000797 kWh of electricity used since the beginning.\n",
      "[codecarbon INFO @ 18:33:54] Energy consumed for RAM : 0.000196 kWh. RAM Power : 11.904736518859863 W\n",
      "[codecarbon INFO @ 18:33:54] Energy consumed for all GPUs : 0.000140 kWh. Total GPU Power : 7.817590444614077 W\n",
      "[codecarbon INFO @ 18:33:54] Energy consumed for all CPUs : 0.000719 kWh. Total CPU Power : 42.5 W\n",
      "[codecarbon INFO @ 18:33:54] 0.001054 kWh of electricity used since the beginning.\n",
      "[codecarbon INFO @ 18:34:09] Energy consumed for RAM : 0.000244 kWh. RAM Power : 11.904736518859863 W\n",
      "[codecarbon INFO @ 18:34:09] Energy consumed for all GPUs : 0.000175 kWh. Total GPU Power : 8.736320285726402 W\n",
      "[codecarbon INFO @ 18:34:09] Energy consumed for all CPUs : 0.000890 kWh. Total CPU Power : 42.5 W\n",
      "[codecarbon INFO @ 18:34:09] 0.001309 kWh of electricity used since the beginning.\n",
      "[codecarbon INFO @ 18:34:24] Energy consumed for RAM : 0.000293 kWh. RAM Power : 11.904736518859863 W\n",
      "[codecarbon INFO @ 18:34:24] Energy consumed for all GPUs : 0.000212 kWh. Total GPU Power : 8.839064465372369 W\n",
      "[codecarbon INFO @ 18:34:24] Energy consumed for all CPUs : 0.001073 kWh. Total CPU Power : 42.5 W\n",
      "[codecarbon INFO @ 18:34:24] 0.001578 kWh of electricity used since the beginning.\n",
      "[codecarbon INFO @ 18:34:39] Energy consumed for RAM : 0.000341 kWh. RAM Power : 11.904736518859863 W\n",
      "[codecarbon INFO @ 18:34:39] Energy consumed for all GPUs : 0.000252 kWh. Total GPU Power : 9.858081704567008 W\n",
      "[codecarbon INFO @ 18:34:39] Energy consumed for all CPUs : 0.001250 kWh. Total CPU Power : 42.5 W\n",
      "[codecarbon INFO @ 18:34:39] 0.001843 kWh of electricity used since the beginning.\n",
      "[codecarbon INFO @ 18:34:54] Energy consumed for RAM : 0.000390 kWh. RAM Power : 11.904736518859863 W\n",
      "[codecarbon INFO @ 18:34:54] Energy consumed for all GPUs : 0.000276 kWh. Total GPU Power : 5.945768674619122 W\n",
      "[codecarbon INFO @ 18:34:54] Energy consumed for all CPUs : 0.001427 kWh. Total CPU Power : 42.5 W\n",
      "[codecarbon INFO @ 18:34:54] 0.002092 kWh of electricity used since the beginning.\n",
      "[codecarbon INFO @ 18:35:09] Energy consumed for RAM : 0.000438 kWh. RAM Power : 11.904736518859863 W\n",
      "[codecarbon INFO @ 18:35:09] Energy consumed for all GPUs : 0.000311 kWh. Total GPU Power : 8.626886805453811 W\n",
      "[codecarbon INFO @ 18:35:09] Energy consumed for all CPUs : 0.001604 kWh. Total CPU Power : 42.5 W\n",
      "[codecarbon INFO @ 18:35:09] 0.002353 kWh of electricity used since the beginning.\n",
      "[codecarbon INFO @ 18:35:24] Energy consumed for RAM : 0.000486 kWh. RAM Power : 11.904736518859863 W\n",
      "[codecarbon INFO @ 18:35:24] Energy consumed for all GPUs : 0.000331 kWh. Total GPU Power : 4.98695447648066 W\n",
      "[codecarbon INFO @ 18:35:24] Energy consumed for all CPUs : 0.001781 kWh. Total CPU Power : 42.5 W\n",
      "[codecarbon INFO @ 18:35:24] 0.002598 kWh of electricity used since the beginning.\n",
      "[codecarbon INFO @ 18:35:39] Energy consumed for RAM : 0.000534 kWh. RAM Power : 11.904736518859863 W\n",
      "[codecarbon INFO @ 18:35:39] Energy consumed for all GPUs : 0.000360 kWh. Total GPU Power : 7.134737602777871 W\n",
      "[codecarbon INFO @ 18:35:39] Energy consumed for all CPUs : 0.001958 kWh. Total CPU Power : 42.5 W\n",
      "[codecarbon INFO @ 18:35:39] 0.002852 kWh of electricity used since the beginning.\n",
      "[codecarbon INFO @ 18:35:54] Energy consumed for RAM : 0.000582 kWh. RAM Power : 11.904736518859863 W\n",
      "[codecarbon INFO @ 18:35:54] Energy consumed for all GPUs : 0.000407 kWh. Total GPU Power : 11.583820388005595 W\n",
      "[codecarbon INFO @ 18:35:54] Energy consumed for all CPUs : 0.002135 kWh. Total CPU Power : 42.5 W\n",
      "[codecarbon INFO @ 18:35:54] 0.003124 kWh of electricity used since the beginning.\n",
      "[codecarbon INFO @ 18:36:09] Energy consumed for RAM : 0.000630 kWh. RAM Power : 11.904736518859863 W\n",
      "[codecarbon INFO @ 18:36:09] Energy consumed for all GPUs : 0.000440 kWh. Total GPU Power : 8.281548965541926 W\n",
      "[codecarbon INFO @ 18:36:09] Energy consumed for all CPUs : 0.002313 kWh. Total CPU Power : 42.5 W\n",
      "[codecarbon INFO @ 18:36:09] 0.003384 kWh of electricity used since the beginning.\n",
      "[codecarbon INFO @ 18:36:24] Energy consumed for RAM : 0.000678 kWh. RAM Power : 11.904736518859863 W\n",
      "[codecarbon INFO @ 18:36:24] Energy consumed for all GPUs : 0.000484 kWh. Total GPU Power : 10.71655873638082 W\n",
      "[codecarbon INFO @ 18:36:24] Energy consumed for all CPUs : 0.002485 kWh. Total CPU Power : 42.5 W\n",
      "[codecarbon INFO @ 18:36:24] 0.003647 kWh of electricity used since the beginning.\n",
      "[codecarbon INFO @ 18:36:39] Energy consumed for RAM : 0.000728 kWh. RAM Power : 11.904736518859863 W\n",
      "[codecarbon INFO @ 18:36:39] Energy consumed for all GPUs : 0.000536 kWh. Total GPU Power : 12.463028932529495 W\n",
      "[codecarbon INFO @ 18:36:39] Energy consumed for all CPUs : 0.002667 kWh. Total CPU Power : 42.5 W\n",
      "[codecarbon INFO @ 18:36:39] 0.003931 kWh of electricity used since the beginning.\n",
      "[codecarbon INFO @ 18:36:54] Energy consumed for RAM : 0.000776 kWh. RAM Power : 11.904736518859863 W\n",
      "[codecarbon INFO @ 18:36:54] Energy consumed for all GPUs : 0.000575 kWh. Total GPU Power : 9.7557241316623 W\n",
      "[codecarbon INFO @ 18:36:54] Energy consumed for all CPUs : 0.002839 kWh. Total CPU Power : 42.5 W\n",
      "[codecarbon INFO @ 18:36:54] 0.004190 kWh of electricity used since the beginning.\n",
      "[codecarbon INFO @ 18:37:09] Energy consumed for RAM : 0.000826 kWh. RAM Power : 11.904736518859863 W\n",
      "[codecarbon INFO @ 18:37:09] Energy consumed for all GPUs : 0.000598 kWh. Total GPU Power : 5.595569304671825 W\n",
      "[codecarbon INFO @ 18:37:09] Energy consumed for all CPUs : 0.003021 kWh. Total CPU Power : 42.5 W\n",
      "[codecarbon INFO @ 18:37:09] 0.004445 kWh of electricity used since the beginning.\n",
      "[codecarbon INFO @ 18:37:24] Energy consumed for RAM : 0.000874 kWh. RAM Power : 11.904736518859863 W\n",
      "[codecarbon INFO @ 18:37:24] Energy consumed for all GPUs : 0.000618 kWh. Total GPU Power : 4.918581716797092 W\n",
      "[codecarbon INFO @ 18:37:24] Energy consumed for all CPUs : 0.003198 kWh. Total CPU Power : 42.5 W\n",
      "[codecarbon INFO @ 18:37:24] 0.004690 kWh of electricity used since the beginning.\n",
      "[codecarbon INFO @ 18:37:39] Energy consumed for RAM : 0.000922 kWh. RAM Power : 11.904736518859863 W\n",
      "[codecarbon INFO @ 18:37:39] Energy consumed for all GPUs : 0.000647 kWh. Total GPU Power : 7.018755855884431 W\n",
      "[codecarbon INFO @ 18:37:39] Energy consumed for all CPUs : 0.003375 kWh. Total CPU Power : 42.5 W\n",
      "[codecarbon INFO @ 18:37:39] 0.004944 kWh of electricity used since the beginning.\n",
      "[codecarbon INFO @ 18:37:54] Energy consumed for RAM : 0.000970 kWh. RAM Power : 11.904736518859863 W\n",
      "[codecarbon INFO @ 18:37:54] Energy consumed for all GPUs : 0.000666 kWh. Total GPU Power : 4.88333385713206 W\n",
      "[codecarbon INFO @ 18:37:54] Energy consumed for all CPUs : 0.003553 kWh. Total CPU Power : 42.5 W\n",
      "[codecarbon INFO @ 18:37:54] 0.005189 kWh of electricity used since the beginning.\n",
      "[codecarbon INFO @ 18:38:09] Energy consumed for RAM : 0.001018 kWh. RAM Power : 11.904736518859863 W\n",
      "[codecarbon INFO @ 18:38:09] Energy consumed for all GPUs : 0.000705 kWh. Total GPU Power : 9.580895070511373 W\n",
      "[codecarbon INFO @ 18:38:09] Energy consumed for all CPUs : 0.003730 kWh. Total CPU Power : 42.5 W\n",
      "[codecarbon INFO @ 18:38:09] 0.005453 kWh of electricity used since the beginning.\n",
      "[codecarbon INFO @ 18:38:24] Energy consumed for RAM : 0.001066 kWh. RAM Power : 11.904736518859863 W\n",
      "[codecarbon INFO @ 18:38:24] Energy consumed for all GPUs : 0.000734 kWh. Total GPU Power : 7.2726489567698165 W\n",
      "[codecarbon INFO @ 18:38:24] Energy consumed for all CPUs : 0.003907 kWh. Total CPU Power : 42.5 W\n",
      "[codecarbon INFO @ 18:38:24] 0.005708 kWh of electricity used since the beginning.\n",
      "[codecarbon INFO @ 18:38:39] Energy consumed for RAM : 0.001114 kWh. RAM Power : 11.904736518859863 W\n",
      "[codecarbon INFO @ 18:38:39] Energy consumed for all GPUs : 0.000774 kWh. Total GPU Power : 9.872796790188247 W\n",
      "[codecarbon INFO @ 18:38:39] Energy consumed for all CPUs : 0.004084 kWh. Total CPU Power : 42.5 W\n",
      "[codecarbon INFO @ 18:38:39] 0.005973 kWh of electricity used since the beginning.\n",
      "[codecarbon INFO @ 18:38:54] Energy consumed for RAM : 0.001163 kWh. RAM Power : 11.904736518859863 W\n",
      "[codecarbon INFO @ 18:38:54] Energy consumed for all GPUs : 0.000822 kWh. Total GPU Power : 11.795101834160246 W\n",
      "[codecarbon INFO @ 18:38:54] Energy consumed for all CPUs : 0.004256 kWh. Total CPU Power : 42.5 W\n",
      "[codecarbon INFO @ 18:38:54] 0.006240 kWh of electricity used since the beginning.\n",
      "[codecarbon INFO @ 18:39:09] Energy consumed for RAM : 0.001212 kWh. RAM Power : 11.904736518859863 W\n",
      "[codecarbon INFO @ 18:39:09] Energy consumed for all GPUs : 0.000860 kWh. Total GPU Power : 9.061319955632682 W\n",
      "[codecarbon INFO @ 18:39:09] Energy consumed for all CPUs : 0.004434 kWh. Total CPU Power : 42.5 W\n",
      "[codecarbon INFO @ 18:39:09] 0.006506 kWh of electricity used since the beginning.\n",
      "[codecarbon INFO @ 18:39:24] Energy consumed for RAM : 0.001261 kWh. RAM Power : 11.904736518859863 W\n",
      "[codecarbon INFO @ 18:39:24] Energy consumed for all GPUs : 0.000888 kWh. Total GPU Power : 6.870331734382173 W\n",
      "[codecarbon INFO @ 18:39:24] Energy consumed for all CPUs : 0.004615 kWh. Total CPU Power : 42.5 W\n",
      "[codecarbon INFO @ 18:39:24] 0.006765 kWh of electricity used since the beginning.\n",
      "[codecarbon INFO @ 18:39:31] Energy consumed for RAM : 0.001284 kWh. RAM Power : 11.904736518859863 W\n",
      "[codecarbon INFO @ 18:39:31] Energy consumed for all GPUs : 0.000906 kWh. Total GPU Power : 9.142378554853696 W\n",
      "[codecarbon INFO @ 18:39:31] Energy consumed for all CPUs : 0.004696 kWh. Total CPU Power : 42.5 W\n",
      "[codecarbon INFO @ 18:39:31] 0.006886 kWh of electricity used since the beginning.\n"
     ]
    },
    {
     "name": "stdout",
     "output_type": "stream",
     "text": [
      "CarbonTracker: WARNING - Failed to retrieve carbon intensity: Defaulting to average carbon intensity 374.46323 gCO2/kWh.\n",
      "CarbonTracker: WARNING - Failed to retrieve carbon intensity: Defaulting to average carbon intensity 374.46323 gCO2/kWh.\n",
      "CarbonTracker: Average carbon intensity during training was 374.46 gCO2/kWh at detected location: Santiago, Santiago Metropolitan, CL.\n",
      "CarbonTracker: Average carbon intensity during training was 374.46 gCO2/kWh at detected location: Santiago, Santiago Metropolitan, CL.\n",
      "CarbonTracker: \n",
      "Actual consumption for 1 epoch(s):\n",
      "\tTime:\t0:06:37\n",
      "\tEnergy:\t0.093370648305 kWh\n",
      "\tCO2eq:\t34.963874551308 g\n",
      "\tThis is equivalent to:\n",
      "\t0.325245344663 km travelled by car\n",
      "CarbonTracker: \n",
      "Actual consumption for 1 epoch(s):\n",
      "\tTime:\t0:06:37\n",
      "\tEnergy:\t0.093370648305 kWh\n",
      "\tCO2eq:\t34.963874551308 g\n",
      "\tThis is equivalent to:\n",
      "\t0.325245344663 km travelled by car\n",
      "CarbonTracker: WARNING - Failed to retrieve carbon intensity: Defaulting to average carbon intensity 374.46323 gCO2/kWh.\n",
      "CarbonTracker: WARNING - Failed to retrieve carbon intensity: Defaulting to average carbon intensity 374.46323 gCO2/kWh.\n",
      "CarbonTracker: Live carbon intensity could not be fetched at detected location: Santiago, Santiago Metropolitan, CL. Defaulted to average carbon intensity for CL in 2021 of 374.46 gCO2/kWh. at detected location: Santiago, Santiago Metropolitan, CL.\n",
      "CarbonTracker: Live carbon intensity could not be fetched at detected location: Santiago, Santiago Metropolitan, CL. Defaulted to average carbon intensity for CL in 2021 of 374.46 gCO2/kWh. at detected location: Santiago, Santiago Metropolitan, CL.\n",
      "CarbonTracker: \n",
      "Predicted consumption for 1 epoch(s):\n",
      "\tTime:\t0:06:37\n",
      "\tEnergy:\t0.093370648305 kWh\n",
      "\tCO2eq:\t34.963874551308 g\n",
      "\tThis is equivalent to:\n",
      "\t0.325245344663 km travelled by car\n",
      "CarbonTracker: \n",
      "Predicted consumption for 1 epoch(s):\n",
      "\tTime:\t0:06:37\n",
      "\tEnergy:\t0.093370648305 kWh\n",
      "\tCO2eq:\t34.963874551308 g\n",
      "\tThis is equivalent to:\n",
      "\t0.325245344663 km travelled by car\n",
      "CarbonTracker: Finished monitoring.\n",
      "CarbonTracker: Finished monitoring.\n",
      "Salida de STDOUT:                          Args                                         Values\n",
      "0                     n_items                                          10868\n",
      "1                      layers                                              1\n",
      "2                    rnn_size                                            512\n",
      "3                    n_epochs                                              5\n",
      "4               learning_rate                                           0.03\n",
      "5                 is_training                                              1\n",
      "6                  test_model                                              2\n",
      "7                  hidden_act                                           tanh\n",
      "8                   final_act                                        softmax\n",
      "9                        loss                                  cross-entropy\n",
      "10                 batch_size                                             32\n",
      "11                      decay                                            1.0\n",
      "12                decay_steps                                        10000.0\n",
      "13             checkpoint_dir  ../trained_models/gru4rec_tensorflow_minorfix\n",
      "14  initial_accumulator_value                                            0.0\n",
      "15           dropout_p_hidden                                           0.85\n",
      "fitting model...\n",
      "epoch:0 loss: 2.034232 76.78 s 16215.32 e/s 506.73 mb/s\n",
      "epoch:1 loss: 1.491404 77.20 s 16126.83 e/s 503.96 mb/s\n",
      "epoch:2 loss: 1.287946 76.72 s 16227.62 e/s 507.11 mb/s\n",
      "epoch:3 loss: 1.141293 79.75 s 15611.24 e/s 487.85 mb/s\n",
      "epoch:4 loss: 1.027370 82.57 s 15077.68 e/s 471.18 mb/s\n",
      "\n"
     ]
    },
    {
     "data": {
      "text/plain": [
       "0.0022904249022593446"
      ]
     },
     "execution_count": 13,
     "metadata": {},
     "output_type": "execute_result"
    }
   ],
   "source": [
    "track_training_C02_emissions(train_script_minor, \"gru4rec_tensorflow_minorfix\", \"coveo\")"
   ]
  },
  {
   "attachments": {},
   "cell_type": "markdown",
   "metadata": {},
   "source": [
    "### Test the minor fix model"
   ]
  },
  {
   "cell_type": "code",
   "execution_count": 14,
   "metadata": {},
   "outputs": [
    {
     "data": {
      "text/plain": [
       "0"
      ]
     },
     "execution_count": 14,
     "metadata": {},
     "output_type": "execute_result"
    }
   ],
   "source": [
    "os.system(test_script_minor)"
   ]
  }
 ],
 "metadata": {
  "kernelspec": {
   "display_name": "Python 3",
   "language": "python",
   "name": "python3"
  },
  "language_info": {
   "codemirror_mode": {
    "name": "ipython",
    "version": 3
   },
   "file_extension": ".py",
   "mimetype": "text/x-python",
   "name": "python",
   "nbconvert_exporter": "python",
   "pygments_lexer": "ipython3",
   "version": "3.12.3"
  },
  "orig_nbformat": 4
 },
 "nbformat": 4,
 "nbformat_minor": 2
}

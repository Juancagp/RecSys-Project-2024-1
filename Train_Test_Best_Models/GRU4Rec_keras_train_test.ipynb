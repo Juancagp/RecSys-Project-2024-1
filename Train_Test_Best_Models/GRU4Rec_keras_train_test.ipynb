{
 "cells": [
  {
   "cell_type": "code",
   "execution_count": 1,
   "metadata": {},
   "outputs": [],
   "source": [
    "import os\n",
    "from experiment_setup import setups\n",
    "from model_tracker import track_training_C02_emissions"
   ]
  },
  {
   "cell_type": "code",
   "execution_count": 18,
   "metadata": {},
   "outputs": [],
   "source": [
    "dataset = \"retailrocket\"    # coveo, diginetica, rees46, retailrocket, yoochoose\n",
    "loss_function = \"xe\"  # Solo disponible en xe\n",
    "\n",
    "dataset_path = f\"../datasets/{dataset}\"\n",
    "model_path = \"../trained_models\""
   ]
  },
  {
   "attachments": {},
   "cell_type": "markdown",
   "metadata": {},
   "source": [
    "## Run the preprocess script, specific to the dataset you chose"
   ]
  },
  {
   "attachments": {},
   "cell_type": "markdown",
   "metadata": {},
   "source": [
    "- The preprocessing script in general, executes the following steps:\n",
    "    - Loads the raw data, with correct types\n",
    "    - Creates the sessions\n",
    "    - Removes duplicated items. An item is considered as a duplicate if the preceding (based on time) event in the same session contains the exact same item.\n",
    "    - Performes iterative support filtering\n",
    "        - Removes sessions with only one event\n",
    "        - Removes items with less than 5 events\n",
    "        - Until the size of the dataset changes\n"
   ]
  },
  {
   "cell_type": "code",
   "execution_count": null,
   "metadata": {},
   "outputs": [],
   "source": [
    "%run ../Preprocess/coveo_preproc.py --path $dataset_path"
   ]
  },
  {
   "attachments": {},
   "cell_type": "markdown",
   "metadata": {},
   "source": [
    "## Use a specific setup for your dataset"
   ]
  },
  {
   "cell_type": "code",
   "execution_count": 21,
   "metadata": {},
   "outputs": [],
   "source": [
    "params = setups[dataset][f\"params_{loss_function}\"]"
   ]
  },
  {
   "cell_type": "code",
   "execution_count": 22,
   "metadata": {},
   "outputs": [],
   "source": [
    "train_path = os.path.join(dataset_path,f\"{dataset}_processed_view_train_full.tsv\")\n",
    "test_path = os.path.join(dataset_path,f\"{dataset}_processed_view_test.tsv\")"
   ]
  },
  {
   "cell_type": "code",
   "execution_count": 23,
   "metadata": {},
   "outputs": [],
   "source": [
    "def create_keras_gru4rec_script(model_name, train_path, test_path, model_path, loss, optim, layers, batch_size, dropout_p_hidden, learning_rate, n_epochs, m, use_correct_mask_reset):\n",
    "    s_train_full = f\"python ../KerasGRU4Rec/model/gru4rec.py --train_path {train_path} --test_path {test_path} --save_path {model_path}/{model_name} --lr {learning_rate} --hidden_size {layers} --dropout_p_hidden {dropout_p_hidden} --batch_size {batch_size}  --optim {optim} --epochs {n_epochs} {'--use_correct_mask_reset' if use_correct_mask_reset else ''}\"\n",
    "    s_test_full = f\"python ../KerasGRU4Rec/model/gru4rec.py --train_path {train_path} --test_path {test_path} --resume {model_path}/KerasGRU4Rec/temp/GRU4REC_{n_epochs-1}.h5 --batch_size {batch_size} --eval_only True --m {m}\"\n",
    "    return s_train_full, s_test_full"
   ]
  },
  {
   "cell_type": "code",
   "execution_count": 26,
   "metadata": {},
   "outputs": [],
   "source": [
    "loss = params[\"loss\"]\n",
    "optim = params[\"optim\"]\n",
    "const_emb = params[\"constrained_embedding\"]\n",
    "embed = params[\"embedding\"]\n",
    "final_act = params[\"final_act\"]\n",
    "layers = params[\"layers\"]\n",
    "batch_size = params[\"batch_size\"]\n",
    "dropout_p_embed = params[\"dropout_p_embed\"]\n",
    "dropout_p_hidden = params[\"dropout_p_hidden\"]\n",
    "learning_rate = params[\"learning_rate\"]\n",
    "momentum = params[\"momentum\"]\n",
    "sample_alpha = params[\"sample_alpha\"]\n",
    "bpreg = params[\"bpreg\"]\n",
    "logq = params[\"logq\"]\n",
    "hidden_act = params[\"hidden_act\"]\n",
    "n_epochs = 5\n",
    "m = '1 5 10 20'"
   ]
  },
  {
   "attachments": {},
   "cell_type": "markdown",
   "metadata": {},
   "source": [
    "## Train & test (major fix model)"
   ]
  },
  {
   "cell_type": "code",
   "execution_count": 27,
   "metadata": {},
   "outputs": [],
   "source": [
    "train_script_major, test_script_major = create_keras_gru4rec_script(model_name=f'keras_gru4rec_majorfix_{loss_function}', test_path=test_path, train_path=train_path, model_path=model_path, loss=loss, optim=optim, layers=layers, batch_size=batch_size, dropout_p_hidden=dropout_p_hidden, learning_rate=learning_rate, n_epochs=n_epochs, m=m, use_correct_mask_reset=True)"
   ]
  },
  {
   "attachments": {},
   "cell_type": "markdown",
   "metadata": {},
   "source": [
    "### Train"
   ]
  },
  {
   "cell_type": "code",
   "execution_count": 28,
   "metadata": {},
   "outputs": [
    {
     "name": "stderr",
     "output_type": "stream",
     "text": [
      "[codecarbon WARNING @ 00:25:48] Invalid gpu_ids format. Expected a string or a list of ints.\n",
      "[codecarbon INFO @ 00:25:48] [setup] RAM Tracking...\n",
      "[codecarbon INFO @ 00:25:48] [setup] GPU Tracking...\n",
      "[codecarbon INFO @ 00:25:48] Tracking Nvidia GPU via pynvml\n",
      "[codecarbon INFO @ 00:25:50] [setup] CPU Tracking...\n",
      "[codecarbon WARNING @ 00:25:50] No CPU tracking mode found. Falling back on CPU constant mode.\n",
      "[codecarbon WARNING @ 00:25:51] We saw that you have a 13th Gen Intel(R) Core(TM) i9-13900HX but we don't know it. Please contact us.\n",
      "[codecarbon INFO @ 00:25:51] CPU Model on constant consumption mode: 13th Gen Intel(R) Core(TM) i9-13900HX\n",
      "[codecarbon WARNING @ 00:25:52] Failed to retrieve gpu information\n",
      "Traceback (most recent call last):\n",
      "  File \"c:\\Users\\EVILAB\\AppData\\Local\\Programs\\Python\\Python312\\Lib\\site-packages\\codecarbon\\core\\gpu.py\", line 238, in get_gpu_details\n",
      "    devices_info.append(gpu_device.get_gpu_details())\n",
      "                        ^^^^^^^^^^^^^^^^^^^^^^^^^^^^\n",
      "  File \"c:\\Users\\EVILAB\\AppData\\Local\\Programs\\Python\\Python312\\Lib\\site-packages\\codecarbon\\core\\gpu.py\", line 75, in get_gpu_details\n",
      "    \"power_usage\": self._get_power_usage(),\n",
      "                   ^^^^^^^^^^^^^^^^^^^^^^^\n",
      "  File \"c:\\Users\\EVILAB\\AppData\\Local\\Programs\\Python\\Python312\\Lib\\site-packages\\codecarbon\\core\\gpu.py\", line 127, in _get_power_usage\n",
      "    return pynvml.nvmlDeviceGetPowerUsage(self.handle)\n",
      "           ^^^^^^^^^^^^^^^^^^^^^^^^^^^^^^^^^^^^^^^^^^^\n",
      "  File \"c:\\Users\\EVILAB\\AppData\\Local\\Programs\\Python\\Python312\\Lib\\site-packages\\pynvml\\nvml.py\", line 2404, in nvmlDeviceGetPowerUsage\n",
      "    _nvmlCheckReturn(ret)\n",
      "  File \"c:\\Users\\EVILAB\\AppData\\Local\\Programs\\Python\\Python312\\Lib\\site-packages\\pynvml\\nvml.py\", line 833, in _nvmlCheckReturn\n",
      "    raise NVMLError(ret)\n",
      "pynvml.nvml.NVMLError_Unknown: Unknown Error\n",
      "[codecarbon INFO @ 00:25:52] >>> Tracker's metadata:\n",
      "[codecarbon INFO @ 00:25:52]   Platform system: Windows-11-10.0.22631-SP0\n",
      "[codecarbon INFO @ 00:25:52]   Python version: 3.12.3\n",
      "[codecarbon INFO @ 00:25:52]   CodeCarbon version: 2.4.2\n",
      "[codecarbon INFO @ 00:25:52]   Available RAM : 31.746 GB\n",
      "[codecarbon INFO @ 00:25:52]   CPU count: 32\n",
      "[codecarbon INFO @ 00:25:52]   CPU model: 13th Gen Intel(R) Core(TM) i9-13900HX\n",
      "[codecarbon INFO @ 00:25:52]   GPU count: 1\n",
      "[codecarbon INFO @ 00:25:52]   GPU model: 1 x NVIDIA GeForce RTX 4090 Laptop GPU\n",
      "[codecarbon INFO @ 00:26:10] Energy consumed for RAM : 0.000051 kWh. RAM Power : 11.904736518859863 W\n",
      "[codecarbon INFO @ 00:26:12] Energy consumed for all GPUs : 0.000333 kWh. Total GPU Power : 77.90300194833146 W\n",
      "[codecarbon INFO @ 00:26:12] Energy consumed for all CPUs : 0.000199 kWh. Total CPU Power : 42.5 W\n",
      "[codecarbon INFO @ 00:26:12] 0.000583 kWh of electricity used since the beginning.\n",
      "[codecarbon INFO @ 00:26:25] Energy consumed for RAM : 0.000096 kWh. RAM Power : 11.904736518859863 W\n",
      "[codecarbon INFO @ 00:26:27] Energy consumed for all GPUs : 0.000343 kWh. Total GPU Power : 2.5202995732936664 W\n",
      "[codecarbon INFO @ 00:26:27] Energy consumed for all CPUs : 0.000376 kWh. Total CPU Power : 42.5 W\n",
      "[codecarbon INFO @ 00:26:27] 0.000814 kWh of electricity used since the beginning.\n",
      "[codecarbon INFO @ 00:26:40] Energy consumed for RAM : 0.000141 kWh. RAM Power : 11.904736518859863 W\n",
      "[codecarbon INFO @ 00:26:42] Energy consumed for all GPUs : 0.000352 kWh. Total GPU Power : 2.485897173552048 W\n",
      "[codecarbon INFO @ 00:26:42] Energy consumed for all CPUs : 0.000553 kWh. Total CPU Power : 42.5 W\n",
      "[codecarbon INFO @ 00:26:42] 0.001046 kWh of electricity used since the beginning.\n",
      "[codecarbon INFO @ 00:26:55] Energy consumed for RAM : 0.000185 kWh. RAM Power : 11.904736518859863 W\n",
      "[codecarbon INFO @ 00:26:57] Energy consumed for all GPUs : 0.000361 kWh. Total GPU Power : 2.4216216329927254 W\n",
      "[codecarbon INFO @ 00:26:57] Energy consumed for all CPUs : 0.000730 kWh. Total CPU Power : 42.5 W\n",
      "[codecarbon INFO @ 00:26:57] 0.001277 kWh of electricity used since the beginning.\n",
      "[codecarbon INFO @ 00:27:10] Energy consumed for RAM : 0.000230 kWh. RAM Power : 11.904736518859863 W\n",
      "[codecarbon INFO @ 00:27:12] Energy consumed for all GPUs : 0.023364 kWh. Total GPU Power : 6114.3092246146 W\n",
      "[codecarbon INFO @ 00:27:12] Energy consumed for all CPUs : 0.000909 kWh. Total CPU Power : 42.5 W\n",
      "[codecarbon INFO @ 00:27:12] 0.024503 kWh of electricity used since the beginning.\n",
      "[codecarbon INFO @ 00:27:25] Energy consumed for RAM : 0.000275 kWh. RAM Power : 11.904736518859863 W\n",
      "[codecarbon INFO @ 00:27:27] Energy consumed for all GPUs : 0.024839 kWh. Total GPU Power : 394.59607077777486 W\n",
      "[codecarbon INFO @ 00:27:27] Energy consumed for all CPUs : 0.001085 kWh. Total CPU Power : 42.5 W\n",
      "[codecarbon INFO @ 00:27:27] 0.026199 kWh of electricity used since the beginning.\n",
      "[codecarbon INFO @ 00:27:40] Energy consumed for RAM : 0.000319 kWh. RAM Power : 11.904736518859863 W\n",
      "[codecarbon INFO @ 00:27:42] Energy consumed for all GPUs : 0.047113 kWh. Total GPU Power : 5948.582923675539 W\n",
      "[codecarbon INFO @ 00:27:42] Energy consumed for all CPUs : 0.001264 kWh. Total CPU Power : 42.5 W\n",
      "[codecarbon INFO @ 00:27:42] 0.048696 kWh of electricity used since the beginning.\n",
      "[codecarbon INFO @ 00:27:55] Energy consumed for RAM : 0.000363 kWh. RAM Power : 11.904736518859863 W\n",
      "[codecarbon INFO @ 00:27:57] Energy consumed for all GPUs : 0.048516 kWh. Total GPU Power : 377.8202542782776 W\n",
      "[codecarbon INFO @ 00:27:57] Energy consumed for all CPUs : 0.001439 kWh. Total CPU Power : 42.5 W\n",
      "[codecarbon INFO @ 00:27:57] 0.050318 kWh of electricity used since the beginning.\n",
      "[codecarbon INFO @ 00:28:10] Energy consumed for RAM : 0.000408 kWh. RAM Power : 11.904736518859863 W\n",
      "[codecarbon INFO @ 00:28:12] Energy consumed for all GPUs : 0.048535 kWh. Total GPU Power : 5.107758670606111 W\n",
      "[codecarbon INFO @ 00:28:12] Energy consumed for all CPUs : 0.001617 kWh. Total CPU Power : 42.5 W\n",
      "[codecarbon INFO @ 00:28:12] 0.050559 kWh of electricity used since the beginning.\n",
      "[codecarbon INFO @ 00:28:25] Energy consumed for RAM : 0.000452 kWh. RAM Power : 11.904736518859863 W\n",
      "[codecarbon INFO @ 00:28:27] Energy consumed for all GPUs : 0.048544 kWh. Total GPU Power : 2.438490695504148 W\n",
      "[codecarbon INFO @ 00:28:27] Energy consumed for all CPUs : 0.001794 kWh. Total CPU Power : 42.5 W\n",
      "[codecarbon INFO @ 00:28:27] 0.050790 kWh of electricity used since the beginning.\n",
      "[codecarbon INFO @ 00:28:40] Energy consumed for RAM : 0.000497 kWh. RAM Power : 11.904736518859863 W\n",
      "[codecarbon INFO @ 00:28:42] Energy consumed for all GPUs : 0.048554 kWh. Total GPU Power : 2.761380118677027 W\n",
      "[codecarbon INFO @ 00:28:42] Energy consumed for all CPUs : 0.001971 kWh. Total CPU Power : 42.5 W\n",
      "[codecarbon INFO @ 00:28:42] 0.051022 kWh of electricity used since the beginning.\n",
      "[codecarbon INFO @ 00:28:55] Energy consumed for RAM : 0.000542 kWh. RAM Power : 11.904736518859863 W\n",
      "[codecarbon INFO @ 00:28:57] Energy consumed for all GPUs : 0.048577 kWh. Total GPU Power : 5.9767629476171 W\n",
      "[codecarbon INFO @ 00:28:57] Energy consumed for all CPUs : 0.002148 kWh. Total CPU Power : 42.5 W\n",
      "[codecarbon INFO @ 00:28:57] 0.051266 kWh of electricity used since the beginning.\n",
      "[codecarbon INFO @ 00:29:10] Energy consumed for RAM : 0.000586 kWh. RAM Power : 11.904736518859863 W\n",
      "[codecarbon INFO @ 00:29:12] Energy consumed for all GPUs : 0.048587 kWh. Total GPU Power : 2.5758759054797293 W\n",
      "[codecarbon INFO @ 00:29:12] Energy consumed for all CPUs : 0.002325 kWh. Total CPU Power : 42.5 W\n",
      "[codecarbon INFO @ 00:29:12] 0.051497 kWh of electricity used since the beginning.\n",
      "[codecarbon INFO @ 00:29:25] Energy consumed for RAM : 0.000631 kWh. RAM Power : 11.904736518859863 W\n",
      "[codecarbon INFO @ 00:29:27] Energy consumed for all GPUs : 0.071771 kWh. Total GPU Power : 6185.216408204912 W\n",
      "[codecarbon INFO @ 00:29:27] Energy consumed for all CPUs : 0.002502 kWh. Total CPU Power : 42.5 W\n",
      "[codecarbon INFO @ 00:29:27] 0.074905 kWh of electricity used since the beginning.\n",
      "[codecarbon INFO @ 00:29:40] Energy consumed for RAM : 0.000675 kWh. RAM Power : 11.904736518859863 W\n",
      "[codecarbon INFO @ 00:29:42] Energy consumed for all GPUs : 0.096405 kWh. Total GPU Power : 6590.838931533756 W\n",
      "[codecarbon INFO @ 00:29:42] Energy consumed for all CPUs : 0.002679 kWh. Total CPU Power : 42.5 W\n",
      "[codecarbon INFO @ 00:29:42] 0.099760 kWh of electricity used since the beginning.\n",
      "[codecarbon INFO @ 00:29:55] Energy consumed for RAM : 0.000720 kWh. RAM Power : 11.904736518859863 W\n",
      "[codecarbon INFO @ 00:29:57] Energy consumed for all GPUs : 0.097893 kWh. Total GPU Power : 397.84264627987875 W\n",
      "[codecarbon INFO @ 00:29:57] Energy consumed for all CPUs : 0.002856 kWh. Total CPU Power : 42.5 W\n",
      "[codecarbon INFO @ 00:29:57] 0.101468 kWh of electricity used since the beginning.\n",
      "[codecarbon INFO @ 00:30:10] Energy consumed for RAM : 0.000764 kWh. RAM Power : 11.904736518859863 W\n",
      "[codecarbon INFO @ 00:30:12] Energy consumed for all GPUs : 0.097902 kWh. Total GPU Power : 2.497623591085294 W\n",
      "[codecarbon INFO @ 00:30:12] Energy consumed for all CPUs : 0.003033 kWh. Total CPU Power : 42.5 W\n",
      "[codecarbon INFO @ 00:30:12] 0.101700 kWh of electricity used since the beginning.\n",
      "[codecarbon INFO @ 00:30:25] Energy consumed for RAM : 0.000809 kWh. RAM Power : 11.904736518859863 W\n",
      "[codecarbon INFO @ 00:30:27] Energy consumed for all GPUs : 0.097911 kWh. Total GPU Power : 2.5205053024188597 W\n",
      "[codecarbon INFO @ 00:30:27] Energy consumed for all CPUs : 0.003211 kWh. Total CPU Power : 42.5 W\n",
      "[codecarbon INFO @ 00:30:27] 0.101931 kWh of electricity used since the beginning.\n",
      "[codecarbon INFO @ 00:30:40] Energy consumed for RAM : 0.000853 kWh. RAM Power : 11.904736518859863 W\n",
      "[codecarbon INFO @ 00:30:42] Energy consumed for all GPUs : 0.097922 kWh. Total GPU Power : 2.8343189742837978 W\n",
      "[codecarbon INFO @ 00:30:42] Energy consumed for all CPUs : 0.003388 kWh. Total CPU Power : 42.5 W\n",
      "[codecarbon INFO @ 00:30:42] 0.102163 kWh of electricity used since the beginning.\n",
      "[codecarbon INFO @ 00:30:55] Energy consumed for RAM : 0.000898 kWh. RAM Power : 11.904736518859863 W\n",
      "[codecarbon INFO @ 00:30:57] Energy consumed for all GPUs : 0.097931 kWh. Total GPU Power : 2.420553976045314 W\n",
      "[codecarbon INFO @ 00:30:57] Energy consumed for all CPUs : 0.003565 kWh. Total CPU Power : 42.5 W\n",
      "[codecarbon INFO @ 00:30:57] 0.102394 kWh of electricity used since the beginning.\n",
      "[codecarbon INFO @ 00:31:10] Energy consumed for RAM : 0.000943 kWh. RAM Power : 11.904736518859863 W\n",
      "[codecarbon INFO @ 00:31:12] Energy consumed for all GPUs : 0.097940 kWh. Total GPU Power : 2.50544095182729 W\n",
      "[codecarbon INFO @ 00:31:12] Energy consumed for all CPUs : 0.003742 kWh. Total CPU Power : 42.5 W\n",
      "[codecarbon INFO @ 00:31:12] 0.102625 kWh of electricity used since the beginning.\n",
      "Exception in thread Thread-544 (_readerthread):\n",
      "Traceback (most recent call last):\n",
      "  File \"c:\\Users\\EVILAB\\AppData\\Local\\Programs\\Python\\Python312\\Lib\\threading.py\", line 1073, in _bootstrap_inner\n",
      "    self.run()\n",
      "  File \"C:\\Users\\EVILAB\\AppData\\Roaming\\Python\\Python312\\site-packages\\ipykernel\\ipkernel.py\", line 766, in run_closure\n",
      "    _threading_Thread_run(self)\n",
      "  File \"c:\\Users\\EVILAB\\AppData\\Local\\Programs\\Python\\Python312\\Lib\\threading.py\", line 1010, in run\n",
      "    self._target(*self._args, **self._kwargs)\n",
      "  File \"c:\\Users\\EVILAB\\AppData\\Local\\Programs\\Python\\Python312\\Lib\\subprocess.py\", line 1599, in _readerthread\n",
      "    buffer.append(fh.read())\n",
      "                  ^^^^^^^^^\n",
      "  File \"c:\\Users\\EVILAB\\AppData\\Local\\Programs\\Python\\Python312\\Lib\\encodings\\cp1252.py\", line 23, in decode\n",
      "    return codecs.charmap_decode(input,self.errors,decoding_table)[0]\n",
      "           ^^^^^^^^^^^^^^^^^^^^^^^^^^^^^^^^^^^^^^^^^^^^^^^^^^^^^^^\n",
      "UnicodeDecodeError: 'charmap' codec can't decode byte 0x90 in position 1514: character maps to <undefined>\n",
      "[codecarbon INFO @ 00:31:24] Energy consumed for RAM : 0.000983 kWh. RAM Power : 11.904736518859863 W\n",
      "[codecarbon INFO @ 00:31:26] Energy consumed for all GPUs : 0.097950 kWh. Total GPU Power : 2.691847348195137 W\n",
      "[codecarbon INFO @ 00:31:26] Energy consumed for all CPUs : 0.003906 kWh. Total CPU Power : 42.5 W\n",
      "[codecarbon INFO @ 00:31:26] 0.102839 kWh of electricity used since the beginning.\n"
     ]
    },
    {
     "name": "stdout",
     "output_type": "stream",
     "text": [
      "Salida de STDOUT: None\n",
      "CO2_emissions_kg: 0.034205424769396475\n"
     ]
    },
    {
     "data": {
      "text/plain": [
       "0.034205424769396475"
      ]
     },
     "execution_count": 28,
     "metadata": {},
     "output_type": "execute_result"
    }
   ],
   "source": [
    "track_training_C02_emissions(train_script_major, f\"keras_gru4rec_{loss_function}\", dataset)"
   ]
  },
  {
   "attachments": {},
   "cell_type": "markdown",
   "metadata": {},
   "source": [
    "### Test"
   ]
  },
  {
   "cell_type": "code",
   "execution_count": 29,
   "metadata": {},
   "outputs": [
    {
     "name": "stdout",
     "output_type": "stream",
     "text": [
      "python ../KerasGRU4Rec/model/gru4rec.py --train_path ../datasets/rees46\\rees46_processed_view_train_full.tsv --test_path ../datasets/rees46\\rees46_processed_view_test.tsv --resume ../trained_models/KerasGRU4Rec/temp/GRU4REC_4.h5 --batch_size 240 --eval_only True --m 1 5 10 20\n"
     ]
    }
   ],
   "source": [
    "print(test_script_major)\n",
    "# os.system(test_script_major)"
   ]
  }
 ],
 "metadata": {
  "kernelspec": {
   "display_name": "Python 3",
   "language": "python",
   "name": "python3"
  },
  "language_info": {
   "codemirror_mode": {
    "name": "ipython",
    "version": 3
   },
   "file_extension": ".py",
   "mimetype": "text/x-python",
   "name": "python",
   "nbconvert_exporter": "python",
   "pygments_lexer": "ipython3",
   "version": "3.12.3"
  },
  "orig_nbformat": 4
 },
 "nbformat": 4,
 "nbformat_minor": 2
}
